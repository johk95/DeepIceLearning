{
 "cells": [
  {
   "cell_type": "markdown",
   "metadata": {},
   "source": [
    "## what this file is for ##\n",
    "it was previously the file to create datasets out of my h5 file AND train a network on it.\n",
    "it is now only here to create npy datasets out of h5 files. all code below that is pure playing.\n",
    "the h5 file contains mcprimary and inicedstpulses."
   ]
  },
  {
   "cell_type": "code",
   "execution_count": 1,
   "metadata": {
    "collapsed": false,
    "scrolled": true
   },
   "outputs": [
    {
     "name": "stderr",
     "output_type": "stream",
     "text": [
      "Using Theano backend.\n",
      "/home/jkager/.local/lib/python2.7/site-packages/sklearn/cross_validation.py:44: DeprecationWarning: This module was deprecated in version 0.18 in favor of the model_selection module into which all the refactored classes and functions are moved. Also note that the interface of the new CV iterators are different from that of this module. This module will be removed in 0.20.\n",
      "  \"This module will be removed in 0.20.\", DeprecationWarning)\n"
     ]
    }
   ],
   "source": [
    "import os\n",
    "import sys\n",
    "import numpy as np\n",
    "#os.environ['THEANO_FLAGS'] = \"device=gpu, floatX = float32\"  \n",
    "#os.environ[\"PATH\"] += os.pathsep + '/usr/local/cuda/bin/nvcc'\n",
    "import theano\n",
    "# theano.config.device = 'gpu'\n",
    "# theano.config.floatX = 'float32'\n",
    "import keras\n",
    "from keras.models import Sequential\n",
    "from keras.layers import Activation\n",
    "from keras.optimizers import SGD\n",
    "from keras.layers import Dense\n",
    "from keras.utils import np_utils\n",
    "from sklearn.preprocessing import LabelEncoder\n",
    "from sklearn.cross_validation import train_test_split\n",
    "import itertools\n",
    "import tables"
   ]
  },
  {
   "cell_type": "code",
   "execution_count": 2,
   "metadata": {
    "collapsed": true
   },
   "outputs": [],
   "source": [
    "#find this file under cobalt: /data/user/jkager/files/inicedstpulses_nugen11069_first50i3files.h5\n",
    "pulses_file = \"/data/user/jkager/files/inicedstpulses_nugen11069_0_first100i3files.h5\""
   ]
  },
  {
   "cell_type": "markdown",
   "metadata": {},
   "source": [
    "take care with that dataset: entry (1106900050, 1612) appeares to be available twice in MCPrimary table... delete it manually."
   ]
  },
  {
   "cell_type": "code",
   "execution_count": 3,
   "metadata": {
    "collapsed": true
   },
   "outputs": [],
   "source": [
    "def load_geo_data(geo_file):\n",
    "    #return the contents of the geo file as\n",
    "    #dictionary mapping (omkey[0],omkey[1]) -> (posx,posy,poz)\n",
    "    import csv\n",
    "    ret = {}\n",
    "    with open(geo_file, 'r') as f:\n",
    "        reader = csv.reader(f)\n",
    "        for line in reader:\n",
    "            key = tuple(map(int, line[0:2]))\n",
    "            val = tuple(map(float, line[2:5]))\n",
    "            ret[key] = val\n",
    "    return ret"
   ]
  },
  {
   "cell_type": "code",
   "execution_count": 4,
   "metadata": {
    "collapsed": true
   },
   "outputs": [],
   "source": [
    "def produce_raw_xlist(geo=None, std_val = 0.0):\n",
    "    \"\"\"\n",
    "    returns a two tuple:\n",
    "    1) a np array of lenght #DOMS filled with std_val. copy this for every dataset later on\n",
    "    2) a dictionary mapping (string, om) to an index (something like $index = (string-1)*60+(om-1)$)\n",
    "    \n",
    "    geo is the object created by load_geo_data. \n",
    "    if no geo specified use standard values: string in [1,86], om in [1,60]\n",
    "    \"\"\"\n",
    "    if geo:\n",
    "        dom_to_index = {}\n",
    "        raw_xlist = np.full((len(geo)), std_val, dtype=np.float32) #this will also be the value used for non hit DOM's\n",
    "        for i, dom in enumerate(geo.keys()):\n",
    "            dom_to_index[dom] = i\n",
    "        return raw_xlist, dom_to_index\n",
    "    else: #no geo file specified, use standard values: string in [1,86], om in [1,60]\n",
    "        dom_to_index = {}\n",
    "        for i, (string, om) in enumerate(itertools.product(range(1,87), range(1,61))):\n",
    "            dom_to_index[(string, om)] = i\n",
    "        raw_xlist = np.full((86*60), std_val, dtype=np.float32)\n",
    "        return raw_xlist, dom_to_index"
   ]
  },
  {
   "cell_type": "code",
   "execution_count": 5,
   "metadata": {
    "collapsed": true
   },
   "outputs": [],
   "source": [
    "def load_pulses_data(pulses_file, geo_file=None, using=\"charge\"):\n",
    "    #returns data from dstpulses. Returns only the first puls from each dom in the list.\n",
    "    #splits per frames\n",
    "    \"\"\"Return a tuple containing ``(data,  labels)``.\n",
    "    \n",
    "    In particular, ``data`` is a list containing a dozen thousand\n",
    "    lists ``[chargedom1,chargedom2,...]``.  the index of the dom is simply a walkthrough through \n",
    "    every (string, om)-pair\n",
    "    \n",
    "    ``labels`` is the\n",
    "    corresponding information about being a north or south-coming particle,\n",
    "    i.e., 0 for above (from south, down) and 1 for below (from north, up). this is chosen on the\n",
    "    zenith angle of MCTree's most energetic primary (1 for > 90deg or 0 for < 90deg). it is made categorical:\n",
    "    [[0,1],[0,1],[1,0],...] for [up, up, down, ...] or equally [1,1,0,...]\n",
    "\n",
    "    For DOMs that include multiple pulses, -the earliest time is used for simplification- sum of charge is used.\n",
    "    \"\"\"\n",
    "\n",
    "    def get_pos(dom_to_index, string, om):\n",
    "        if (string, om) not in dom_to_index:\n",
    "            return -1\n",
    "        return dom_to_index[(string, om)]\n",
    "\n",
    "    def normalize_time(time_list):\n",
    "        maxtime, mintime = 0, float(\"inf\")\n",
    "        for t in time_list:\n",
    "            if t == np.inf:\n",
    "                continue\n",
    "            maxtime = max(maxtime, t)\n",
    "            mintime = min(mintime, t)\n",
    "        if mintime == np.inf:\n",
    "            return\n",
    "        timespan = maxtime - mintime\n",
    "        time_list -= mintime\n",
    "        if timespan > 0.0:\n",
    "            time_list /= timespan\n",
    "    def normalize_charge(charge_list):\n",
    "        maxcharge, mincharge = 0, float(\"inf\")\n",
    "        for c in charge_list:\n",
    "            maxcharge = max(maxcharge, c)\n",
    "            mincharge = min(mincharge, c)\n",
    "        span = maxcharge - mincharge\n",
    "        charge_list -= mincharge\n",
    "        charge_list /= span\n",
    "\n",
    "    raw_xlist, dom_to_index = None, None\n",
    "    if using==\"charge\":\n",
    "        raw_xlist, dom_to_index = produce_raw_xlist(std_val=0.0)\n",
    "    elif using == \"time\":\n",
    "        raw_xlist, dom_to_index = produce_raw_xlist(std_val=np.inf)\n",
    "\n",
    "    h5file = tables.open_file(pulses_file)\n",
    "    dst = h5file.root.InIceDSTPulses.cols\n",
    "    prim = h5file.root.MCPrimary.cols\n",
    "\n",
    "    data = []   #total charge (summed over pulses) per dom and per frame. 2d numpy array\n",
    "    labels = [] #up or down, categorical [[0,1],[0,1],[1,0],...]. 2d numpy array\n",
    "    prev_frame = (dst.Run[0],dst.Event[0])\n",
    "    prev_dom = (-1,-1)\n",
    "    x_list = np.copy(raw_xlist)\n",
    "    count = 0\n",
    "    x_i = 0\n",
    "\n",
    "    for zenith in prim.zenith:\n",
    "        labels.append(1 if zenith > 1.5707963268 else 0) #1==down, 0==up\n",
    "    labels = np_utils.to_categorical(labels)\n",
    "\n",
    "    total_rows = len(dst.Run)\n",
    "    i=0\n",
    "    if using == \"charge\":\n",
    "        for run, event, string, om, time, charge in zip(dst.Run, dst.Event, dst.string, dst.om, \\\n",
    "                                                        dst.time, dst.charge):\n",
    "            if (run, event) != prev_frame: #next frame is coming, so push this out as charges list\n",
    "                normalize_charge(x_list)\n",
    "                data.append(x_list)\n",
    "                x_list = np.copy(raw_xlist)\n",
    "                count += 1\n",
    "                prev_frame = (run,event)\n",
    "\n",
    "            if (string, om) == prev_dom: #already saw that dom (it has multiple pulses)\n",
    "                x_list[dom_index] += charge\n",
    "            else: #pulse for new dom\n",
    "                if om <= 60: #filter out those om=61,62,63,64 (i.e. icetop). we're not interested in them\n",
    "                    dom_index = get_pos(dom_to_index, string, om)\n",
    "                    if dom_index == -1: #just to make sure\n",
    "                        continue\n",
    "                    x_list[dom_index] = charge\n",
    "                    prev_dom = (string, om)\n",
    "\n",
    "            # show an update every 1,000 images\n",
    "            if i > 0 and i % 10**6 == 0:\n",
    "                print(\"[INFO] processed {}/{}\".format(i, total_rows))\n",
    "            i += 1\n",
    "\n",
    "        #add the last frame manually\n",
    "        normalize_charge(x_list)\n",
    "        data.append(x_list)\n",
    "    elif using == \"time\":\n",
    "        for run, event, string, om, time, charge in zip(dst.Run, dst.Event, dst.string, dst.om, \\\n",
    "                                                        dst.time, dst.charge):\n",
    "            if (run, event) != prev_frame: #next frame is coming, so push this out as charges list\n",
    "                normalize_time(x_list)\n",
    "                data.append(x_list)\n",
    "                x_list = np.copy(raw_xlist)\n",
    "                count += 1\n",
    "                prev_frame = (run,event)\n",
    "\n",
    "            if (string, om) == prev_dom: #already saw that dom (it has multiple pulses)\n",
    "                pass\n",
    "            else: #pulse for new dom\n",
    "                if om <= 60: #filter out those om=61,62,63,64 (i.e. icetop). we're not interested in them\n",
    "                    dom_index = get_pos(dom_to_index, string, om)\n",
    "                    if dom_index == -1:\n",
    "                        continue\n",
    "                    x_list[dom_index] = time\n",
    "                    prev_dom = (string, om)\n",
    "\n",
    "            # show an update every 1,000 images\n",
    "            if i > 0 and i % 10**6 == 0:\n",
    "                print(\"[INFO] processed {}/{}\".format(i, total_rows))\n",
    "            i += 1\n",
    "\n",
    "        #add the last frame manually\n",
    "        normalize_time(x_list)\n",
    "        data.append(x_list)\n",
    "\n",
    "    return (np.array(data), labels)"
   ]
  },
  {
   "cell_type": "code",
   "execution_count": 6,
   "metadata": {
    "collapsed": false,
    "scrolled": true
   },
   "outputs": [
    {
     "name": "stdout",
     "output_type": "stream",
     "text": [
      "[INFO] processed 1000000/89477037\n",
      "[INFO] processed 2000000/89477037\n",
      "[INFO] processed 3000000/89477037\n",
      "[INFO] processed 4000000/89477037\n",
      "[INFO] processed 5000000/89477037\n",
      "[INFO] processed 6000000/89477037\n",
      "[INFO] processed 7000000/89477037\n",
      "[INFO] processed 8000000/89477037\n",
      "[INFO] processed 9000000/89477037\n",
      "[INFO] processed 10000000/89477037\n",
      "[INFO] processed 11000000/89477037\n",
      "[INFO] processed 12000000/89477037\n",
      "[INFO] processed 13000000/89477037\n",
      "[INFO] processed 14000000/89477037\n",
      "[INFO] processed 15000000/89477037\n",
      "[INFO] processed 16000000/89477037\n",
      "[INFO] processed 17000000/89477037\n",
      "[INFO] processed 18000000/89477037\n",
      "[INFO] processed 19000000/89477037\n",
      "[INFO] processed 20000000/89477037\n",
      "[INFO] processed 21000000/89477037\n",
      "[INFO] processed 22000000/89477037\n",
      "[INFO] processed 23000000/89477037\n",
      "[INFO] processed 24000000/89477037\n",
      "[INFO] processed 25000000/89477037\n",
      "[INFO] processed 26000000/89477037\n",
      "[INFO] processed 27000000/89477037\n",
      "[INFO] processed 28000000/89477037\n",
      "[INFO] processed 29000000/89477037\n",
      "[INFO] processed 30000000/89477037\n",
      "[INFO] processed 31000000/89477037\n",
      "[INFO] processed 32000000/89477037\n",
      "[INFO] processed 33000000/89477037\n",
      "[INFO] processed 34000000/89477037\n",
      "[INFO] processed 35000000/89477037\n",
      "[INFO] processed 36000000/89477037\n",
      "[INFO] processed 37000000/89477037\n",
      "[INFO] processed 38000000/89477037\n",
      "[INFO] processed 39000000/89477037\n",
      "[INFO] processed 40000000/89477037\n",
      "[INFO] processed 41000000/89477037\n",
      "[INFO] processed 42000000/89477037\n",
      "[INFO] processed 43000000/89477037\n",
      "[INFO] processed 44000000/89477037\n",
      "[INFO] processed 45000000/89477037\n",
      "[INFO] processed 46000000/89477037\n",
      "[INFO] processed 47000000/89477037\n",
      "[INFO] processed 48000000/89477037\n",
      "[INFO] processed 49000000/89477037\n",
      "[INFO] processed 50000000/89477037\n",
      "[INFO] processed 51000000/89477037\n",
      "[INFO] processed 52000000/89477037\n",
      "[INFO] processed 53000000/89477037\n",
      "[INFO] processed 54000000/89477037\n",
      "[INFO] processed 55000000/89477037\n",
      "[INFO] processed 56000000/89477037\n",
      "[INFO] processed 57000000/89477037\n",
      "[INFO] processed 58000000/89477037\n",
      "[INFO] processed 59000000/89477037\n",
      "[INFO] processed 60000000/89477037\n",
      "[INFO] processed 61000000/89477037\n",
      "[INFO] processed 62000000/89477037\n",
      "[INFO] processed 63000000/89477037\n",
      "[INFO] processed 64000000/89477037\n",
      "[INFO] processed 65000000/89477037\n",
      "[INFO] processed 66000000/89477037\n",
      "[INFO] processed 67000000/89477037\n",
      "[INFO] processed 68000000/89477037\n",
      "[INFO] processed 69000000/89477037\n",
      "[INFO] processed 70000000/89477037\n",
      "[INFO] processed 71000000/89477037\n",
      "[INFO] processed 72000000/89477037\n",
      "[INFO] processed 73000000/89477037\n",
      "[INFO] processed 74000000/89477037\n",
      "[INFO] processed 75000000/89477037\n",
      "[INFO] processed 76000000/89477037\n",
      "[INFO] processed 77000000/89477037\n",
      "[INFO] processed 78000000/89477037\n",
      "[INFO] processed 79000000/89477037\n",
      "[INFO] processed 80000000/89477037\n",
      "[INFO] processed 81000000/89477037\n",
      "[INFO] processed 82000000/89477037\n",
      "[INFO] processed 83000000/89477037\n",
      "[INFO] processed 84000000/89477037\n",
      "[INFO] processed 85000000/89477037\n",
      "[INFO] processed 86000000/89477037\n",
      "[INFO] processed 87000000/89477037\n",
      "[INFO] processed 88000000/89477037\n",
      "[INFO] processed 89000000/89477037\n"
     ]
    }
   ],
   "source": [
    "data, labels = load_pulses_data(pulses_file,using=\"charge\")"
   ]
  },
  {
   "cell_type": "code",
   "execution_count": 29,
   "metadata": {
    "collapsed": true
   },
   "outputs": [],
   "source": [
    "h5=tables.open_file(pulses_file)\n",
    "mcp=h5.root.MCPrimary.cols\n",
    "index_to_remove = -1\n",
    "for i, (run,event) in enumerate(zip(mcp.Run, mcp.Event)):\n",
    "    if (run, event) == (1106900050, 1612):\n",
    "        index_to_remove = i\n",
    "        break\n",
    "if len(labels) > len(data): #just to be sure...\n",
    "    labels = np.delete(labels, index_to_remove, 0)"
   ]
  },
  {
   "cell_type": "code",
   "execution_count": 13,
   "metadata": {
    "collapsed": false
   },
   "outputs": [
    {
     "ename": "NameError",
     "evalue": "name 'labels' is not defined",
     "output_type": "error",
     "traceback": [
      "\u001b[1;31m---------------------------------------------------------------------------\u001b[0m",
      "\u001b[1;31mNameError\u001b[0m                                 Traceback (most recent call last)",
      "\u001b[1;32m<ipython-input-13-6c7189e7614b>\u001b[0m in \u001b[0;36m<module>\u001b[1;34m()\u001b[0m\n\u001b[1;32m----> 1\u001b[1;33m \u001b[0mlabels\u001b[0m\u001b[1;33m\u001b[0m\u001b[0m\n\u001b[0m",
      "\u001b[1;31mNameError\u001b[0m: name 'labels' is not defined"
     ]
    }
   ],
   "source": []
  },
  {
   "cell_type": "code",
   "execution_count": 31,
   "metadata": {
    "collapsed": true
   },
   "outputs": [],
   "source": [
    "np.save(\"updownclassification_using_keras_timedata.npy\", data)\n",
    "np.save(\"updownclassification_using_keras_labels.npy\", labels)"
   ]
  },
  {
   "cell_type": "code",
   "execution_count": 27,
   "metadata": {
    "collapsed": true
   },
   "outputs": [],
   "source": [
    "data =   np.load(\"updownclassification_using_keras_chargedata.npy\")\n",
    "labels = np.load(\"updownclassification_using_keras_labels.npy\")"
   ]
  },
  {
   "cell_type": "markdown",
   "metadata": {},
   "source": [
    "#filter data. exclude 60deg < zenith < 120deg#"
   ]
  },
  {
   "cell_type": "code",
   "execution_count": 4,
   "metadata": {
    "collapsed": false
   },
   "outputs": [],
   "source": [
    "h5=tables.open_file(pulses_file)\n",
    "mcp=h5.root.MCPrimary.cols\n",
    "data =   np.load(\"updownclassification_using_keras_chargedata.npy\")\n",
    "labels = np.load(\"updownclassification_using_keras_labels.npy\")"
   ]
  },
  {
   "cell_type": "code",
   "execution_count": 22,
   "metadata": {
    "collapsed": false
   },
   "outputs": [
    {
     "data": {
      "text/plain": [
       "array([0, 1, 0, ..., 0, 0, 0])"
      ]
     },
     "execution_count": 22,
     "metadata": {},
     "output_type": "execute_result"
    }
   ],
   "source": [
    "np.array([0,1])[labels.argmax(1)]"
   ]
  },
  {
   "cell_type": "code",
   "execution_count": 24,
   "metadata": {
    "collapsed": false
   },
   "outputs": [
    {
     "data": {
      "text/plain": [
       "array([[ 1.,  0.],\n",
       "       [ 0.,  1.],\n",
       "       [ 1.,  0.],\n",
       "       ..., \n",
       "       [ 1.,  0.],\n",
       "       [ 1.,  0.],\n",
       "       [ 1.,  0.]])"
      ]
     },
     "execution_count": 24,
     "metadata": {},
     "output_type": "execute_result"
    }
   ],
   "source": [
    "labels"
   ]
  },
  {
   "cell_type": "code",
   "execution_count": 5,
   "metadata": {
    "collapsed": false
   },
   "outputs": [],
   "source": [
    "data_filtered = []\n",
    "labels_filtered = []\n",
    "included_zeniths = []\n",
    "for i, entry in enumerate(h5.root.MCPrimary.where(\"((Run != 1106900050) | (Event != 1612) | (SubEvent != 1))\")):\n",
    "    if entry['zenith'] > 7*np.pi/12 or \\\n",
    "       entry['zenith'] < 5*np.pi/12:\n",
    "        data_filtered.append(data[i])\n",
    "        labels_filtered.append(labels[i])\n",
    "        included_zeniths.append(entry['zenith'])\n",
    "  # if not np.logical_and(*(here==there)):\n",
    "  #     print i, here, there\n",
    "data_filtered = np.array(data_filtered)\n",
    "labels_filtered = np.array(labels_filtered)\n",
    "included_zeniths = np.array(included_zeniths)"
   ]
  },
  {
   "cell_type": "code",
   "execution_count": 6,
   "metadata": {
    "collapsed": false
   },
   "outputs": [],
   "source": [
    "np.save(\"updownclassification_using_keras_timedata_filtered.npy\", data_filtered)\n",
    "np.save(\"updownclassification_using_keras_labels_filtered.npy\", labels_filtered)"
   ]
  },
  {
   "cell_type": "markdown",
   "metadata": {},
   "source": [
    "filtering done\n",
    "-"
   ]
  },
  {
   "cell_type": "markdown",
   "metadata": {},
   "source": [
    " "
   ]
  },
  {
   "cell_type": "code",
   "execution_count": 29,
   "metadata": {
    "collapsed": false,
    "scrolled": true
   },
   "outputs": [],
   "source": [
    "(trainData, testData, trainLabels, testLabels) = train_test_split(data, labels, test_size=0.25, random_state=42)"
   ]
  },
  {
   "cell_type": "code",
   "execution_count": 30,
   "metadata": {
    "collapsed": true
   },
   "outputs": [],
   "source": [
    "model = Sequential()\n",
    "model.add(Dense(1024, input_dim=5160, kernel_initializer=\"uniform\",\n",
    "\tactivation=\"relu\"))\n",
    "model.add(Dense(512, kernel_initializer=\"uniform\", activation=\"relu\"))\n",
    "model.add(Dense(2))\n",
    "model.add(Activation(\"softmax\"))"
   ]
  },
  {
   "cell_type": "code",
   "execution_count": 31,
   "metadata": {
    "collapsed": false,
    "scrolled": true
   },
   "outputs": [
    {
     "name": "stdout",
     "output_type": "stream",
     "text": [
      "Epoch 1/20\n",
      "7875/7875 [==============================] - 6s - loss: 0.6921 - acc: 0.5195     \n",
      "Epoch 2/20\n",
      "7875/7875 [==============================] - 6s - loss: 0.6893 - acc: 0.5464     \n",
      "Epoch 3/20\n",
      "7875/7875 [==============================] - 6s - loss: 0.6883 - acc: 0.5470     \n",
      "Epoch 4/20\n",
      "7875/7875 [==============================] - 6s - loss: 0.6877 - acc: 0.5472     \n",
      "Epoch 5/20\n",
      "7875/7875 [==============================] - 6s - loss: 0.6872 - acc: 0.5476     \n",
      "Epoch 6/20\n",
      "7875/7875 [==============================] - 6s - loss: 0.6868 - acc: 0.5473     \n",
      "Epoch 7/20\n",
      "7875/7875 [==============================] - 6s - loss: 0.6864 - acc: 0.5484     \n",
      "Epoch 8/20\n",
      "7875/7875 [==============================] - 6s - loss: 0.6859 - acc: 0.5497     \n",
      "Epoch 9/20\n",
      "7875/7875 [==============================] - 6s - loss: 0.6855 - acc: 0.5510     \n",
      "Epoch 10/20\n",
      "7875/7875 [==============================] - 6s - loss: 0.6851 - acc: 0.5523     \n",
      "Epoch 11/20\n",
      "7875/7875 [==============================] - 6s - loss: 0.6846 - acc: 0.5530     \n",
      "Epoch 12/20\n",
      "7875/7875 [==============================] - 6s - loss: 0.6842 - acc: 0.5552     \n",
      "Epoch 13/20\n",
      "7875/7875 [==============================] - 7s - loss: 0.6837 - acc: 0.5552     \n",
      "Epoch 14/20\n",
      "7875/7875 [==============================] - 5s - loss: 0.6833 - acc: 0.5570     \n",
      "Epoch 15/20\n",
      "7875/7875 [==============================] - 5s - loss: 0.6829 - acc: 0.5583     \n",
      "Epoch 16/20\n",
      "7875/7875 [==============================] - 6s - loss: 0.6824 - acc: 0.5575     \n",
      "Epoch 17/20\n",
      "7875/7875 [==============================] - 6s - loss: 0.6820 - acc: 0.5617     \n",
      "Epoch 18/20\n",
      "7875/7875 [==============================] - 5s - loss: 0.6815 - acc: 0.5639     \n",
      "Epoch 19/20\n",
      "7875/7875 [==============================] - 5s - loss: 0.6811 - acc: 0.5656     \n",
      "Epoch 20/20\n",
      "7875/7875 [==============================] - 5s - loss: 0.6807 - acc: 0.5665     \n",
      "time to fit: 124.407696009\n"
     ]
    }
   ],
   "source": [
    "#train the model\n",
    "import time\n",
    "start=time.time()\n",
    "sgd = SGD(lr=0.01)\n",
    "model.compile(loss=\"binary_crossentropy\", optimizer=sgd,\n",
    "\tmetrics=[\"accuracy\"])\n",
    "model.fit(trainData, trainLabels, epochs=20, batch_size=128)\n",
    "print \"time to fit:\",time.time()-start"
   ]
  },
  {
   "cell_type": "code",
   "execution_count": 36,
   "metadata": {
    "collapsed": false
   },
   "outputs": [
    {
     "name": "stdout",
     "output_type": "stream",
     "text": [
      "[INFO] evaluating on testing set...\n",
      "2560/2626 [============================>.] - ETA: 0s[INFO] loss=0.6839, accuracy: 55.8644%\n"
     ]
    }
   ],
   "source": [
    "# show the accuracy on the testing set\n",
    "print(\"[INFO] evaluating on testing set...\")\n",
    "(loss, accuracy) = model.evaluate(testData, testLabels,\n",
    "\tbatch_size=128, verbose=1)\n",
    "print(\"[INFO] loss={:.4f}, accuracy: {:.4f}%\".format(loss,\n",
    "\taccuracy * 100))"
   ]
  },
  {
   "cell_type": "code",
   "execution_count": 34,
   "metadata": {
    "collapsed": false
   },
   "outputs": [
    {
     "data": {
      "text/plain": [
       "array([[ 0.46050641,  0.53949362],\n",
       "       [ 0.44714925,  0.55285072],\n",
       "       [ 0.4380317 ,  0.56196827],\n",
       "       [ 0.46625364,  0.53374636],\n",
       "       [ 0.46789631,  0.53210372]], dtype=float32)"
      ]
     },
     "execution_count": 34,
     "metadata": {},
     "output_type": "execute_result"
    }
   ],
   "source": [
    "model.predict(testData[:5])"
   ]
  },
  {
   "cell_type": "markdown",
   "metadata": {},
   "source": [
    "# results #\n",
    "run locally on macbook:\n",
    "\n",
    "feedforward neural net 5160-1024-512-2, relu activations. trained on 75% of 10501 datasets. tested on 25%.\n",
    "\n",
    "Epoch 50/50\n",
    "7875/7875 [==============================] - 3s - loss: 0.6672 - acc: 0.6000 \n",
    "\n",
    "[INFO] evaluating on testing set...\n",
    "2432/2626 [==========================>...] - ETA: 0s[INFO] loss=0.6787, accuracy: 56.5499%"
   ]
  },
  {
   "cell_type": "code",
   "execution_count": null,
   "metadata": {
    "collapsed": true
   },
   "outputs": [],
   "source": []
  },
  {
   "cell_type": "code",
   "execution_count": null,
   "metadata": {
    "collapsed": true
   },
   "outputs": [],
   "source": []
  },
  {
   "cell_type": "markdown",
   "metadata": {},
   "source": [
    "# look at the input data #\n",
    "which angles do we have?"
   ]
  },
  {
   "cell_type": "code",
   "execution_count": 4,
   "metadata": {
    "collapsed": true
   },
   "outputs": [],
   "source": [
    "import tables\n",
    "import numpy as np\n",
    "import matplotlib.pyplot as plt\n",
    "%matplotlib inline"
   ]
  },
  {
   "cell_type": "code",
   "execution_count": 10,
   "metadata": {
    "collapsed": false
   },
   "outputs": [],
   "source": [
    "h5=tables.open_file(\"/data/user/jkager/files/inicedstpulses_nugen11069_0_last50i3files.h5\")"
   ]
  },
  {
   "cell_type": "code",
   "execution_count": 11,
   "metadata": {
    "collapsed": false
   },
   "outputs": [],
   "source": [
    "zeniths = np.array(h5.root.MCPrimary.cols.zenith) * 180 / np.pi"
   ]
  },
  {
   "cell_type": "code",
   "execution_count": 21,
   "metadata": {
    "collapsed": false
   },
   "outputs": [
    {
     "data": {
      "text/plain": [
       "array([  13.50372123,  123.51217644,   81.25132564, ...,   89.36358153,\n",
       "         53.36052213,   89.3553739 ])"
      ]
     },
     "execution_count": 21,
     "metadata": {},
     "output_type": "execute_result"
    }
   ],
   "source": [
    "zeniths"
   ]
  },
  {
   "cell_type": "code",
   "execution_count": 7,
   "metadata": {
    "collapsed": true
   },
   "outputs": [],
   "source": [
    "hist = np.histogram(zeniths,bins=18)"
   ]
  },
  {
   "cell_type": "code",
   "execution_count": 23,
   "metadata": {
    "collapsed": false
   },
   "outputs": [
    {
     "data": {
      "text/plain": [
       "[(138, 1.2684182400768134),\n",
       " (297, 11.161891870863837),\n",
       " (350, 21.055365501650858),\n",
       " (394, 30.948839132437882),\n",
       " (460, 40.842312763224903),\n",
       " (602, 50.735786394011924),\n",
       " (687, 60.629260024798953),\n",
       " (847, 70.522733655585967),\n",
       " (1034, 80.416207286372995),\n",
       " (977, 90.309680917160023),\n",
       " (922, 100.20315454794704),\n",
       " (881, 110.09662817873406),\n",
       " (805, 119.99010180952109),\n",
       " (700, 129.88357544030811),\n",
       " (576, 139.77704907109512),\n",
       " (447, 149.67052270188216),\n",
       " (292, 159.56399633266918),\n",
       " (93, 169.45746996345619)]"
      ]
     },
     "execution_count": 23,
     "metadata": {},
     "output_type": "execute_result"
    }
   ],
   "source": [
    "zip(*hist)"
   ]
  },
  {
   "cell_type": "code",
   "execution_count": 50,
   "metadata": {
    "collapsed": false
   },
   "outputs": [
    {
     "data": {
      "text/plain": [
       "5154"
      ]
     },
     "execution_count": 50,
     "metadata": {},
     "output_type": "execute_result"
    }
   ],
   "source": [
    "sum(hist[0][12:]+hist[0][0:6])"
   ]
  },
  {
   "cell_type": "code",
   "execution_count": 12,
   "metadata": {
    "collapsed": false
   },
   "outputs": [
    {
     "data": {
      "image/png": "[encoded data removed]",
      "text/plain": [
       "<matplotlib.figure.Figure at 0x7f465b3fa0d0>"
      ]
     },
     "metadata": {},
     "output_type": "display_data"
    }
   ],
   "source": [
    "plt.hist(zeniths, 18)\n",
    "plt.show()"
   ]
  },
  {
   "cell_type": "code",
   "execution_count": null,
   "metadata": {
    "collapsed": true
   },
   "outputs": [],
   "source": []
  }
 ],
 "metadata": {
  "kernelspec": {
   "display_name": "Python 2",
   "language": "python",
   "name": "python2"
  },
  "language_info": {
   "codemirror_mode": {
    "name": "ipython",
    "version": 2
   },
   "file_extension": ".py",
   "mimetype": "text/x-python",
   "name": "python",
   "nbconvert_exporter": "python",
   "pygments_lexer": "ipython2",
   "version": "2.7.10"
  }
 },
 "nbformat": 4,
 "nbformat_minor": 2
}
