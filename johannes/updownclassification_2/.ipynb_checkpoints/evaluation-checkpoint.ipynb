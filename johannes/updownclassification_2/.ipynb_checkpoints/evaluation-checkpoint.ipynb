{
 "cells": [
  {
   "cell_type": "code",
   "execution_count": 1,
   "metadata": {
    "collapsed": false
   },
   "outputs": [
    {
     "name": "stderr",
     "output_type": "stream",
     "text": [
      "Using Theano backend.\n"
     ]
    }
   ],
   "source": [
    "import jkutils\n",
    "import os\n",
    "import sys\n",
    "import numpy as np\n",
    "with jkutils.suppress_stdout_stderr(): #prevents printed info from theano\n",
    "    import theano\n",
    "    # theano.config.device = 'gpu'\n",
    "    # theano.config.floatX = 'float32'\n",
    "    import keras\n",
    "from keras.models import Sequential, load_model\n",
    "from keras.layers import Dense, Dropout, Activation, Flatten, Convolution2D,\\\n",
    " BatchNormalization, MaxPooling2D,Convolution3D,MaxPooling3D\n",
    "from keras.optimizers import SGD, Adagrad\n",
    "from keras.wrappers.scikit_learn import KerasRegressor\n",
    "from keras.utils import np_utils\n",
    "from keras.utils.io_utils import HDF5Matrix\n",
    "from keras.constraints import maxnorm\n",
    "from keras import regularizers\n",
    "from sklearn.model_selection import train_test_split\n",
    "import h5py\n",
    "import datetime\n",
    "import gc\n",
    "from ConfigParser import ConfigParser\n",
    "import argparse\n",
    "import tables\n",
    "import math\n",
    "import time\n",
    "import resource\n",
    "import shelve\n",
    "import itertools\n",
    "import shutil"
   ]
  },
  {
   "cell_type": "markdown",
   "metadata": {},
   "source": [
    "# calculate results per hand with trained weights #"
   ]
  },
  {
   "cell_type": "code",
   "execution_count": 2,
   "metadata": {
    "collapsed": false
   },
   "outputs": [
    {
     "name": "stdout",
     "output_type": "stream",
     "text": [
      "looking for train_hist/2017-07-30/time1_h0_v1\n",
      "found\n"
     ]
    }
   ],
   "source": [
    "file_location = '/data/user/jkager/NN_Reco/johannes/updownclassification_2/'\n",
    "data_location = '/data/user/jkager/NN_Reco/'\n",
    "\n",
    "today = '2017-07-30'\n",
    "project_name = 'time1_h0_v1'\n",
    "\n",
    "project_folder = 'train_hist/{}/{}'.format(today, project_name)\n",
    "print \"looking for\", project_folder\n",
    "if not os.path.exists(os.path.join(file_location,project_folder)):\n",
    "    print \"project not found. exiting...\"\n",
    "    sys.exit(-1)\n",
    "print \"found\""
   ]
  },
  {
   "cell_type": "code",
   "execution_count": 3,
   "metadata": {
    "collapsed": true
   },
   "outputs": [],
   "source": [
    "h5 = tables.open_file(os.path.join(project_folder, 'final_network.h5'))\n",
    "model = load_model(os.path.join(project_folder, 'final_network.h5'))"
   ]
  },
  {
   "cell_type": "code",
   "execution_count": 5,
   "metadata": {
    "collapsed": false
   },
   "outputs": [
    {
     "data": {
      "text/plain": [
       "[{'class_name': 'Dense',\n",
       "  'config': {'activation': 'relu',\n",
       "   'activity_regularizer': None,\n",
       "   'batch_input_shape': (None, 22491),\n",
       "   'bias_constraint': None,\n",
       "   'bias_initializer': {'class_name': 'Zeros', 'config': {}},\n",
       "   'bias_regularizer': None,\n",
       "   'dtype': u'float32',\n",
       "   'kernel_constraint': None,\n",
       "   'kernel_initializer': {'class_name': 'RandomUniform',\n",
       "    'config': {'maxval': 0.05, 'minval': -0.05, 'seed': None}},\n",
       "   'kernel_regularizer': None,\n",
       "   'name': u'dense_1',\n",
       "   'trainable': True,\n",
       "   'units': 1824,\n",
       "   'use_bias': True}},\n",
       " {'class_name': 'Dropout',\n",
       "  'config': {'name': u'dropout_1', 'rate': 0.4, 'trainable': True}},\n",
       " {'class_name': 'Dense',\n",
       "  'config': {'activation': 'softplus',\n",
       "   'activity_regularizer': None,\n",
       "   'bias_constraint': None,\n",
       "   'bias_initializer': {'class_name': 'Zeros', 'config': {}},\n",
       "   'bias_regularizer': None,\n",
       "   'kernel_constraint': None,\n",
       "   'kernel_initializer': {'class_name': 'RandomUniform',\n",
       "    'config': {'maxval': 0.05, 'minval': -0.05, 'seed': None}},\n",
       "   'kernel_regularizer': None,\n",
       "   'name': u'dense_2',\n",
       "   'trainable': True,\n",
       "   'units': 612,\n",
       "   'use_bias': True}},\n",
       " {'class_name': 'Dropout',\n",
       "  'config': {'name': u'dropout_2', 'rate': 0.4, 'trainable': True}},\n",
       " {'class_name': 'Dense',\n",
       "  'config': {'activation': 'softmax',\n",
       "   'activity_regularizer': None,\n",
       "   'bias_constraint': None,\n",
       "   'bias_initializer': {'class_name': 'Zeros', 'config': {}},\n",
       "   'bias_regularizer': None,\n",
       "   'kernel_constraint': None,\n",
       "   'kernel_initializer': {'class_name': 'VarianceScaling',\n",
       "    'config': {'distribution': u'uniform',\n",
       "     'mode': u'fan_avg',\n",
       "     'scale': 1.0,\n",
       "     'seed': None}},\n",
       "   'kernel_regularizer': None,\n",
       "   'name': u'dense_3',\n",
       "   'trainable': True,\n",
       "   'units': 1,\n",
       "   'use_bias': True}}]"
      ]
     },
     "execution_count": 5,
     "metadata": {},
     "output_type": "execute_result"
    }
   ],
   "source": [
    "model.get_config()"
   ]
  },
  {
   "cell_type": "code",
   "execution_count": 14,
   "metadata": {
    "collapsed": false
   },
   "outputs": [
    {
     "data": {
      "text/plain": [
       "41025408"
      ]
     },
     "execution_count": 14,
     "metadata": {},
     "output_type": "execute_result"
    }
   ],
   "source": [
    "model.layers[0].count_params() # = (22491 + 1) * 1824"
   ]
  },
  {
   "cell_type": "code",
   "execution_count": 19,
   "metadata": {
    "collapsed": false
   },
   "outputs": [
    {
     "data": {
      "text/plain": [
       "(22491, 1824)"
      ]
     },
     "execution_count": 19,
     "metadata": {},
     "output_type": "execute_result"
    }
   ],
   "source": [
    "model.layers[0].weights[0].get_value().shape"
   ]
  },
  {
   "cell_type": "code",
   "execution_count": 21,
   "metadata": {
    "collapsed": false
   },
   "outputs": [
    {
     "data": {
      "text/plain": [
       "Elemwise{mul,no_inplace}.0"
      ]
     },
     "execution_count": 21,
     "metadata": {},
     "output_type": "execute_result"
    }
   ],
   "source": [
    "model.layers[0].output"
   ]
  },
  {
   "cell_type": "code",
   "execution_count": null,
   "metadata": {
    "collapsed": true
   },
   "outputs": [],
   "source": [
    "# further analyzation in analyze_networks"
   ]
  }
 ],
 "metadata": {
  "kernelspec": {
   "display_name": "Python 2",
   "language": "python",
   "name": "python2"
  },
  "language_info": {
   "codemirror_mode": {
    "name": "ipython",
    "version": 2
   },
   "file_extension": ".py",
   "mimetype": "text/x-python",
   "name": "python",
   "nbconvert_exporter": "python",
   "pygments_lexer": "ipython2",
   "version": "2.7.10"
  }
 },
 "nbformat": 4,
 "nbformat_minor": 0
}
