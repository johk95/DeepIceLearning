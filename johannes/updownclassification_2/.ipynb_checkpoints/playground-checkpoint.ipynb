{
 "cells": [
  {
   "cell_type": "code",
   "execution_count": 1,
   "metadata": {
    "collapsed": true
   },
   "outputs": [],
   "source": [
    "from scipy.stats import describe\n",
    "import numpy as np\n",
    "import datetime, os, sys\n",
    "import argparse\n",
    "import itertools"
   ]
  },
  {
   "cell_type": "code",
   "execution_count": 4,
   "metadata": {
    "collapsed": true
   },
   "outputs": [],
   "source": [
    "def preprocess(times):\n",
    "    times[times == np.inf] = 10"
   ]
  },
  {
   "cell_type": "code",
   "execution_count": 17,
   "metadata": {
    "collapsed": true
   },
   "outputs": [],
   "source": [
    "t=np.zeros((2,1,2,2,5))"
   ]
  },
  {
   "cell_type": "code",
   "execution_count": 18,
   "metadata": {
    "collapsed": false
   },
   "outputs": [],
   "source": [
    "t[0,0,0,0,2]=float(\"inf\")\n",
    "t[0,0,1,0,3]=float(\"inf\")"
   ]
  },
  {
   "cell_type": "code",
   "execution_count": 19,
   "metadata": {
    "collapsed": false
   },
   "outputs": [
    {
     "data": {
      "text/plain": [
       "array([[[[[  0.,   0.,  inf,   0.,   0.],\n",
       "          [  0.,   0.,   0.,   0.,   0.]],\n",
       "\n",
       "         [[  0.,   0.,   0.,  inf,   0.],\n",
       "          [  0.,   0.,   0.,   0.,   0.]]]],\n",
       "\n",
       "\n",
       "\n",
       "       [[[[  0.,   0.,   0.,   0.,   0.],\n",
       "          [  0.,   0.,   0.,   0.,   0.]],\n",
       "\n",
       "         [[  0.,   0.,   0.,   0.,   0.],\n",
       "          [  0.,   0.,   0.,   0.,   0.]]]]])"
      ]
     },
     "execution_count": 19,
     "metadata": {},
     "output_type": "execute_result"
    }
   ],
   "source": [
    "t"
   ]
  },
  {
   "cell_type": "code",
   "execution_count": 20,
   "metadata": {
    "collapsed": true
   },
   "outputs": [],
   "source": [
    "preprocess(t)"
   ]
  },
  {
   "cell_type": "code",
   "execution_count": 21,
   "metadata": {
    "collapsed": false
   },
   "outputs": [
    {
     "data": {
      "text/plain": [
       "array([[[[[  0.,   0.,  10.,   0.,   0.],\n",
       "          [  0.,   0.,   0.,   0.,   0.]],\n",
       "\n",
       "         [[  0.,   0.,   0.,  10.,   0.],\n",
       "          [  0.,   0.,   0.,   0.,   0.]]]],\n",
       "\n",
       "\n",
       "\n",
       "       [[[[  0.,   0.,   0.,   0.,   0.],\n",
       "          [  0.,   0.,   0.,   0.,   0.]],\n",
       "\n",
       "         [[  0.,   0.,   0.,   0.,   0.],\n",
       "          [  0.,   0.,   0.,   0.,   0.]]]]])"
      ]
     },
     "execution_count": 21,
     "metadata": {},
     "output_type": "execute_result"
    }
   ],
   "source": [
    "t"
   ]
  },
  {
   "cell_type": "code",
   "execution_count": 2,
   "metadata": {
    "collapsed": true
   },
   "outputs": [],
   "source": [
    "a=np.float64(5)"
   ]
  },
  {
   "cell_type": "code",
   "execution_count": 12,
   "metadata": {
    "collapsed": false
   },
   "outputs": [
    {
     "data": {
      "text/plain": [
       "True"
      ]
     },
     "execution_count": 12,
     "metadata": {},
     "output_type": "execute_result"
    }
   ],
   "source": [
    "isinstance(4.0, float)"
   ]
  },
  {
   "cell_type": "code",
   "execution_count": 16,
   "metadata": {
    "collapsed": false
   },
   "outputs": [
    {
     "data": {
      "text/plain": [
       "False"
      ]
     },
     "execution_count": 16,
     "metadata": {},
     "output_type": "execute_result"
    }
   ],
   "source": [
    "isinstance(np.zeros((4)),list)"
   ]
  },
  {
   "cell_type": "code",
   "execution_count": 17,
   "metadata": {
    "collapsed": true
   },
   "outputs": [],
   "source": [
    "a=np.zeros((5,1))"
   ]
  },
  {
   "cell_type": "code",
   "execution_count": 21,
   "metadata": {
    "collapsed": false
   },
   "outputs": [],
   "source": [
    "a[2,0]=5"
   ]
  },
  {
   "cell_type": "code",
   "execution_count": 22,
   "metadata": {
    "collapsed": false
   },
   "outputs": [
    {
     "data": {
      "text/plain": [
       "array([[ 0.],\n",
       "       [ 0.],\n",
       "       [ 5.],\n",
       "       [ 0.],\n",
       "       [ 0.]])"
      ]
     },
     "execution_count": 22,
     "metadata": {},
     "output_type": "execute_result"
    }
   ],
   "source": [
    "a"
   ]
  },
  {
   "cell_type": "code",
   "execution_count": 3,
   "metadata": {
    "collapsed": false
   },
   "outputs": [
    {
     "data": {
      "text/plain": [
       "'2017-07-23'"
      ]
     },
     "execution_count": 3,
     "metadata": {},
     "output_type": "execute_result"
    }
   ],
   "source": [
    "\"{}\".format(datetime.date.today())"
   ]
  },
  {
   "cell_type": "code",
   "execution_count": 4,
   "metadata": {
    "collapsed": false
   },
   "outputs": [
    {
     "name": "stdout",
     "output_type": "stream",
     "text": [
      "2017-07-23\n"
     ]
    }
   ],
   "source": [
    "print datetime.date.today()"
   ]
  },
  {
   "cell_type": "code",
   "execution_count": 12,
   "metadata": {
    "collapsed": false
   },
   "outputs": [
    {
     "data": {
      "text/plain": [
       "['2017-07-21', '2017-07-22']"
      ]
     },
     "execution_count": 12,
     "metadata": {},
     "output_type": "execute_result"
    }
   ],
   "source": [
    "sorted(os.listdir(\"./train_hist\"))"
   ]
  },
  {
   "cell_type": "code",
   "execution_count": 2,
   "metadata": {
    "collapsed": true
   },
   "outputs": [],
   "source": [
    "a=np.zeros((5,1))"
   ]
  },
  {
   "cell_type": "code",
   "execution_count": 3,
   "metadata": {
    "collapsed": false
   },
   "outputs": [
    {
     "data": {
      "text/plain": [
       "array([[ 0.],\n",
       "       [ 0.],\n",
       "       [ 0.],\n",
       "       [ 0.],\n",
       "       [ 0.]])"
      ]
     },
     "execution_count": 3,
     "metadata": {},
     "output_type": "execute_result"
    }
   ],
   "source": [
    "a"
   ]
  },
  {
   "cell_type": "code",
   "execution_count": 5,
   "metadata": {
    "collapsed": false
   },
   "outputs": [],
   "source": [
    "test=[]\n",
    "test.extend(list(a))"
   ]
  },
  {
   "cell_type": "code",
   "execution_count": 6,
   "metadata": {
    "collapsed": false
   },
   "outputs": [
    {
     "data": {
      "text/plain": [
       "[array([ 0.]), array([ 0.]), array([ 0.]), array([ 0.]), array([ 0.])]"
      ]
     },
     "execution_count": 6,
     "metadata": {},
     "output_type": "execute_result"
    }
   ],
   "source": [
    "test"
   ]
  },
  {
   "cell_type": "code",
   "execution_count": 10,
   "metadata": {
    "collapsed": false
   },
   "outputs": [
    {
     "data": {
      "text/plain": [
       "array([[[3, 4],\n",
       "        [5, 6]],\n",
       "\n",
       "       [[1, 2],\n",
       "        [3, 4]]])"
      ]
     },
     "execution_count": 10,
     "metadata": {},
     "output_type": "execute_result"
    }
   ],
   "source": [
    "np.array([[[3,4],[5,6]],[[1,2],[3,4]]])"
   ]
  },
  {
   "cell_type": "code",
   "execution_count": 11,
   "metadata": {
    "collapsed": true
   },
   "outputs": [],
   "source": [
    "m=np.load('./train_hist/2017-07-22/times_as10/test_results.npy')"
   ]
  },
  {
   "cell_type": "code",
   "execution_count": 14,
   "metadata": {
    "collapsed": false
   },
   "outputs": [
    {
     "data": {
      "text/plain": [
       "(2, 1884)"
      ]
     },
     "execution_count": 14,
     "metadata": {},
     "output_type": "execute_result"
    }
   ],
   "source": [
    "m.shape"
   ]
  },
  {
   "cell_type": "code",
   "execution_count": 16,
   "metadata": {
    "collapsed": false
   },
   "outputs": [
    {
     "name": "stdout",
     "output_type": "stream",
     "text": [
      "%\n"
     ]
    }
   ],
   "source": [
    "print \"%\""
   ]
  },
  {
   "cell_type": "code",
   "execution_count": 4,
   "metadata": {
    "collapsed": false
   },
   "outputs": [],
   "source": [
    "a=Exception()"
   ]
  },
  {
   "cell_type": "code",
   "execution_count": 7,
   "metadata": {
    "collapsed": false
   },
   "outputs": [],
   "source": [
    "a.input=4"
   ]
  },
  {
   "cell_type": "code",
   "execution_count": 8,
   "metadata": {
    "collapsed": false
   },
   "outputs": [
    {
     "data": {
      "text/plain": [
       "4"
      ]
     },
     "execution_count": 8,
     "metadata": {},
     "output_type": "execute_result"
    }
   ],
   "source": [
    "a.input"
   ]
  },
  {
   "cell_type": "code",
   "execution_count": 9,
   "metadata": {
    "collapsed": false
   },
   "outputs": [
    {
     "ename": "SyntaxError",
     "evalue": "invalid syntax (<ipython-input-9-15599593bc9f>, line 1)",
     "output_type": "error",
     "traceback": [
      "\u001b[1;36m  File \u001b[1;32m\"<ipython-input-9-15599593bc9f>\"\u001b[1;36m, line \u001b[1;32m1\u001b[0m\n\u001b[1;33m    a.continue=9\u001b[0m\n\u001b[1;37m             ^\u001b[0m\n\u001b[1;31mSyntaxError\u001b[0m\u001b[1;31m:\u001b[0m invalid syntax\n"
     ]
    }
   ],
   "source": [
    "a.continue=9"
   ]
  },
  {
   "cell_type": "code",
   "execution_count": 15,
   "metadata": {
    "collapsed": false
   },
   "outputs": [
    {
     "data": {
      "text/plain": [
       "0"
      ]
     },
     "execution_count": 15,
     "metadata": {},
     "output_type": "execute_result"
    }
   ],
   "source": []
  },
  {
   "cell_type": "code",
   "execution_count": 17,
   "metadata": {
    "collapsed": false
   },
   "outputs": [
    {
     "data": {
      "text/plain": [
       "'/data/user/jkager/./NN_Reco'"
      ]
     },
     "execution_count": 17,
     "metadata": {},
     "output_type": "execute_result"
    }
   ],
   "source": [
    "os.path.join(\"/data/user/jkager/\",\"./NN_Reco\")"
   ]
  },
  {
   "cell_type": "code",
   "execution_count": 41,
   "metadata": {
    "collapsed": false
   },
   "outputs": [
    {
     "data": {
      "text/plain": [
       "_StoreAction(option_strings=['--continue'], dest='continue', nargs=None, const=None, default='None', type=<type 'str'>, choices=None, help='Give a folder to continue the training of the network', metavar=None)"
      ]
     },
     "execution_count": 41,
     "metadata": {},
     "output_type": "execute_result"
    }
   ],
   "source": [
    "parser = argparse.ArgumentParser()\n",
    "parser.add_argument('--foo', help='foo help', default=None)\n",
    "parser.add_argument(\"--continue\", help=\"Give a folder to continue the training of the network\", type=str, default = 'None')"
   ]
  },
  {
   "cell_type": "code",
   "execution_count": 42,
   "metadata": {
    "collapsed": false
   },
   "outputs": [],
   "source": [
    "args = parser.parse_args(['--foo','bar','--continue','inputfiles'])"
   ]
  },
  {
   "cell_type": "code",
   "execution_count": 44,
   "metadata": {
    "collapsed": false
   },
   "outputs": [
    {
     "data": {
      "text/plain": [
       "{'continue': 'inputfiles', 'foo': 'bar'}"
      ]
     },
     "execution_count": 44,
     "metadata": {},
     "output_type": "execute_result"
    }
   ],
   "source": [
    "args.__dict__"
   ]
  },
  {
   "cell_type": "code",
   "execution_count": 39,
   "metadata": {
    "collapsed": false
   },
   "outputs": [
    {
     "data": {
      "text/plain": [
       "{'_action_groups': [<argparse._ArgumentGroup at 0x7f057a3e30d0>,\n",
       "  <argparse._ArgumentGroup at 0x7f057a3e31d0>],\n",
       " '_actions': [_HelpAction(option_strings=['-h', '--help'], dest='help', nargs=0, const=None, default='==SUPPRESS==', type=None, choices=None, help='show this help message and exit', metavar=None),\n",
       "  _StoreAction(option_strings=['--foo'], dest='foo', nargs=None, const=None, default=None, type=None, choices=None, help='foo help', metavar=None),\n",
       "  _StoreAction(option_strings=['--continue'], dest='continue', nargs=None, const=None, default='None', type=<type 'str'>, choices=None, help='Give a folder to continue the training of the network', metavar=None)],\n",
       " '_defaults': {},\n",
       " '_has_negative_number_optionals': [],\n",
       " '_mutually_exclusive_groups': [],\n",
       " '_negative_number_matcher': re.compile(r'^-\\d+$|^-\\d*\\.\\d+$'),\n",
       " '_option_string_actions': {'--continue': _StoreAction(option_strings=['--continue'], dest='continue', nargs=None, const=None, default='None', type=<type 'str'>, choices=None, help='Give a folder to continue the training of the network', metavar=None),\n",
       "  '--foo': _StoreAction(option_strings=['--foo'], dest='foo', nargs=None, const=None, default=None, type=None, choices=None, help='foo help', metavar=None),\n",
       "  '--help': _HelpAction(option_strings=['-h', '--help'], dest='help', nargs=0, const=None, default='==SUPPRESS==', type=None, choices=None, help='show this help message and exit', metavar=None),\n",
       "  '-h': _HelpAction(option_strings=['-h', '--help'], dest='help', nargs=0, const=None, default='==SUPPRESS==', type=None, choices=None, help='show this help message and exit', metavar=None)},\n",
       " '_optionals': <argparse._ArgumentGroup at 0x7f057a3e31d0>,\n",
       " '_positionals': <argparse._ArgumentGroup at 0x7f057a3e30d0>,\n",
       " '_registries': {'action': {None: argparse._StoreAction,\n",
       "   'append': argparse._AppendAction,\n",
       "   'append_const': argparse._AppendConstAction,\n",
       "   'count': argparse._CountAction,\n",
       "   'help': argparse._HelpAction,\n",
       "   'parsers': argparse._SubParsersAction,\n",
       "   'store': argparse._StoreAction,\n",
       "   'store_const': argparse._StoreConstAction,\n",
       "   'store_false': argparse._StoreFalseAction,\n",
       "   'store_true': argparse._StoreTrueAction,\n",
       "   'version': argparse._VersionAction},\n",
       "  'type': {None: <function argparse.identity>}},\n",
       " '_subparsers': None,\n",
       " 'add_help': True,\n",
       " 'argument_default': None,\n",
       " 'conflict_handler': 'error',\n",
       " 'description': None,\n",
       " 'epilog': None,\n",
       " 'formatter_class': argparse.HelpFormatter,\n",
       " 'fromfile_prefix_chars': None,\n",
       " 'prefix_chars': '-',\n",
       " 'prog': '__main__.py',\n",
       " 'usage': None,\n",
       " 'version': None}"
      ]
     },
     "execution_count": 39,
     "metadata": {},
     "output_type": "execute_result"
    }
   ],
   "source": [
    "parser.__dict__"
   ]
  },
  {
   "cell_type": "code",
   "execution_count": 26,
   "metadata": {
    "collapsed": false
   },
   "outputs": [
    {
     "data": {
      "text/plain": [
       "['/cvmfs/icecube.opensciencegrid.org/py2-v2/RHEL_6_x86_64/lib/python2.7/site-packages/IPython/kernel/__main__.py',\n",
       " '-f',\n",
       " '/home/jkager/.ipython/profile_default/security/kernel-520a8240-7519-4997-992f-0ece5524d532.json',\n",
       " '--profile-dir',\n",
       " '/home/jkager/.ipython/profile_default']"
      ]
     },
     "execution_count": 26,
     "metadata": {},
     "output_type": "execute_result"
    }
   ],
   "source": [
    "sys.argv"
   ]
  },
  {
   "cell_type": "code",
   "execution_count": 12,
   "metadata": {
    "collapsed": false
   },
   "outputs": [
    {
     "data": {
      "text/plain": [
       "['11029_00000-00999.h5',\n",
       " '11029_01000-01999.h5',\n",
       " '11029_02000-02999.h5',\n",
       " '11029_03000-03999.h5',\n",
       " '11029_04000-04999.h5',\n",
       " '11029_05000-05999.h5',\n",
       " '11069_00000-00999.h5',\n",
       " '11069_01000-01999.h5',\n",
       " '11069_02000-02999.h5',\n",
       " '11069_03000-03999.h5',\n",
       " '11069_04000-04999.h5',\n",
       " '11069_05000-05999.h5',\n",
       " '11069_06000-06999.h5']"
      ]
     },
     "execution_count": 12,
     "metadata": {},
     "output_type": "execute_result"
    }
   ],
   "source": [
    "sorted(os.listdir(os.path.join('/data/user/jkager/NN_Reco/', 'training_data/')))"
   ]
  },
  {
   "cell_type": "code",
   "execution_count": 13,
   "metadata": {
    "collapsed": false
   },
   "outputs": [
    {
     "name": "stdout",
     "output_type": "stream",
     "text": [
      "5 7\n"
     ]
    }
   ],
   "source": [
    "a,A=5,7\n",
    "print a,A"
   ]
  },
  {
   "cell_type": "code",
   "execution_count": 14,
   "metadata": {
    "collapsed": false
   },
   "outputs": [
    {
     "data": {
      "text/plain": [
       "{'h': '012', 'l': '0'}"
      ]
     },
     "execution_count": 14,
     "metadata": {},
     "output_type": "execute_result"
    }
   ],
   "source": [
    "{k:v for k, v in zip(*[iter([\"\".join(x) for _, x in itertools.groupby(\"h012l0\", key=str.isdigit)])]*2)}"
   ]
  },
  {
   "cell_type": "code",
   "execution_count": 11,
   "metadata": {
    "collapsed": true
   },
   "outputs": [],
   "source": [
    "i=iter(['a',0,'b',1])"
   ]
  },
  {
   "cell_type": "code",
   "execution_count": 12,
   "metadata": {
    "collapsed": false
   },
   "outputs": [
    {
     "data": {
      "text/plain": [
       "[('a', 0), ('b', 1)]"
      ]
     },
     "execution_count": 12,
     "metadata": {},
     "output_type": "execute_result"
    }
   ],
   "source": [
    "zip(i,i)"
   ]
  },
  {
   "cell_type": "code",
   "execution_count": 17,
   "metadata": {
    "collapsed": false
   },
   "outputs": [
    {
     "data": {
      "text/plain": [
       "['']"
      ]
     },
     "execution_count": 17,
     "metadata": {},
     "output_type": "execute_result"
    }
   ],
   "source": [
    "''.split(':')"
   ]
  },
  {
   "cell_type": "code",
   "execution_count": 16,
   "metadata": {
    "collapsed": false
   },
   "outputs": [
    {
     "data": {
      "text/plain": [
       "':a'"
      ]
     },
     "execution_count": 16,
     "metadata": {},
     "output_type": "execute_result"
    }
   ],
   "source": [
    "':'.join(['','a'])"
   ]
  },
  {
   "cell_type": "code",
   "execution_count": 18,
   "metadata": {
    "collapsed": false
   },
   "outputs": [
    {
     "data": {
      "text/plain": [
       "[]"
      ]
     },
     "execution_count": 18,
     "metadata": {},
     "output_type": "execute_result"
    }
   ],
   "source": [
    "filter(lambda s: len(s) > 0, ''.split(':'))"
   ]
  },
  {
   "cell_type": "code",
   "execution_count": 1,
   "metadata": {
    "collapsed": true
   },
   "outputs": [],
   "source": [
    "from ConfigParser import ConfigParser"
   ]
  },
  {
   "cell_type": "code",
   "execution_count": 2,
   "metadata": {
    "collapsed": true
   },
   "outputs": [],
   "source": [
    "parser=ConfigParser()"
   ]
  },
  {
   "cell_type": "code",
   "execution_count": 3,
   "metadata": {
    "collapsed": false
   },
   "outputs": [
    {
     "data": {
      "text/plain": [
       "['config.cfg']"
      ]
     },
     "execution_count": 3,
     "metadata": {},
     "output_type": "execute_result"
    }
   ],
   "source": [
    "parser.read('config.cfg')"
   ]
  },
  {
   "cell_type": "code",
   "execution_count": 9,
   "metadata": {
    "collapsed": false
   },
   "outputs": [],
   "source": [
    "import jkutils_inverse as jkutils"
   ]
  },
  {
   "cell_type": "code",
   "execution_count": 13,
   "metadata": {
    "collapsed": false
   },
   "outputs": [
    {
     "data": {
      "text/plain": [
       "1"
      ]
     },
     "execution_count": 13,
     "metadata": {},
     "output_type": "execute_result"
    }
   ],
   "source": [
    "jkutils.zenith_to_binary(1.0)"
   ]
  },
  {
   "cell_type": "code",
   "execution_count": 1,
   "metadata": {
    "collapsed": true
   },
   "outputs": [],
   "source": [
    "import icecube"
   ]
  },
  {
   "cell_type": "code",
   "execution_count": 2,
   "metadata": {
    "collapsed": true
   },
   "outputs": [],
   "source": [
    "from icecube import dataclasses, dataio, icetray\n",
    "import numpy as np\n",
    "import itertools\n",
    "import math\n",
    "import tables   \n",
    "import argparse\n",
    "import os, sys\n",
    "\n",
    "#### File paths #########\n",
    "basepath = '/data/ana/PointSource/PS/IC86_2012/files/sim/2012/neutrino-generator/'\n",
    "geometry_file = '/data/sim/sim-new/downloads/GCD/GeoCalibDetectorStatus_2012.56063_V0.i3.gz'\n",
    "file_location = '/data/user/tglauch/ML_Reco/'"
   ]
  },
  {
   "cell_type": "code",
   "execution_count": 77,
   "metadata": {
    "collapsed": false
   },
   "outputs": [],
   "source": [
    "def make_grid_dict(input_shape, geometry):\n",
    "    \"\"\"Put the Icecube Geometry in a cubic grid. For each DOM calculate the corresponding grid position. Rotates the x-y-plane\n",
    "    in order to make icecube better fit into a grid.\n",
    "\n",
    "    Arguments:\n",
    "    input_shape : The shape of the grid (x,y,z)\n",
    "    geometry : Geometry file containing the positions of the DOMs in the Detector\n",
    "    \n",
    "    Returns:\n",
    "    grid: a dictionary mapping (string, om) => (grid_x, grid_y, grid_z), i.e. dom id to its index position in the cubic grid\n",
    "    dom_list_ret: list of all (string, om), i.e. list of all dom ids in the geofile \n",
    "    \"\"\"\n",
    "    \n",
    "    \n",
    "    dom_6_pos = geometry[icetray.OMKey(6,1)].position\n",
    "    dom_1_pos = geometry[icetray.OMKey(1,1)].position\n",
    "    theta = -np.arctan( (dom_6_pos.y - dom_1_pos.y)/(dom_6_pos.x - dom_1_pos.x) )\n",
    "    c, s = np.cos(theta), np.sin(theta)\n",
    "    rot_mat = np.matrix([[c, -s], [s, c]])\n",
    "    \n",
    "    grid = dict()\n",
    "    DOM_List = [i for i in geometry.keys() if  i.om < 61                      # om > 60 are icetops\n",
    "                                           and i.string not in range(79,87)]  # exclude deep core strings\n",
    "    xpos=[geometry[i].position.x for i in DOM_List]\n",
    "    ypos=[geometry[i].position.y for i in DOM_List]\n",
    "    zpos=[geometry[i].position.z for i in DOM_List]\n",
    "    \n",
    "    rotxy = [np.squeeze(np.asarray(np.dot(rot_mat, xy))) for xy in zip(xpos, ypos)]\n",
    "    xpos, ypos = zip(*rotxy)\n",
    "    \n",
    "    xmin, xmax = np.min(xpos), np.max(xpos)\n",
    "    delta_x = (xmax - xmin)/(input_shape[0]-1)\n",
    "    xmin, xmaz = xmin - delta_x/2, xmax + delta_x/2\n",
    "    ymin, ymax = np.min(ypos), np.max(ypos)\n",
    "    delta_y = (ymax - ymin)/(input_shape[1]-1)\n",
    "    ymin, ymaz = xmin - delta_y/2, ymax + delta_y/2\n",
    "    zmin, zmax = np.min(zpos), np.max(zpos)\n",
    "    delta_z = (zmax - zmin)/(input_shape[2]-1)\n",
    "    zmin, zmax = zmin - delta_z/2, zmax + delta_z/2\n",
    "    dom_list_ret = []\n",
    "    for i, odom in enumerate(DOM_List):\n",
    "        dom_list_ret.append((odom.string, odom.om))\n",
    "        # for all x,y,z-positions the according grid position is calculated and stored.\n",
    "        # the last items (i.e. xmax, ymax, zmax) are put in the last bin. i.e. grid[\"om with x=xmax\"]=(input_shape[0]-1,...)\n",
    "        grid[(odom.string, odom.om)] = (min(int(math.floor((xpos[i]-xmin)/delta_x)),\n",
    "                                            input_shape[0]-1\n",
    "                                           ),\n",
    "                                        min(int(math.floor((ypos[i]-ymin)/delta_y)),\n",
    "                                            input_shape[1]-1\n",
    "                                           ),\n",
    "                                        min(int(math.floor((zpos[i]-zmin)/delta_z)),\n",
    "                                            input_shape[2]-1\n",
    "                                           )\n",
    "                                       )\n",
    "    return grid, dom_list_ret"
   ]
  },
  {
   "cell_type": "code",
   "execution_count": 78,
   "metadata": {
    "collapsed": false
   },
   "outputs": [],
   "source": [
    "    geometry = dataio.I3File(geometry_file)\n",
    "    geo = geometry.pop_frame()['I3Geometry'].omgeo\n",
    "    #jk print \"\\n\".join([\"{:2d} {:2d}\".format(k.om, k.string) for k in geo.keys()])#jk\n",
    "    grid, DOM_list = make_grid_dict([20,10,60],geo)"
   ]
  },
  {
   "cell_type": "code",
   "execution_count": 90,
   "metadata": {
    "collapsed": false,
    "scrolled": false
   },
   "outputs": [
    {
     "name": "stdout",
     "output_type": "stream",
     "text": [
      "0 set([1, 2])\n",
      "1 set([8, 3, 4, 5, 7])\n",
      "2 set([6, 9, 10, 11, 12, 14, 15, 16, 22])\n",
      "3 set([32, 13, 17, 18, 19, 23, 24, 25, 31])\n",
      "4 set([33, 34, 35, 41, 42, 20, 21, 26, 27, 28])\n",
      "5 set([36, 37, 38, 39, 43, 44, 45, 51, 52, 29, 30])\n",
      "6 set([40, 46, 47, 48, 53, 54, 55, 60, 61])\n",
      "7 set([64, 68, 69, 49, 50, 56, 57, 58, 62, 63])\n",
      "8 set([65, 66, 67, 70, 71, 72, 75, 76, 59])\n",
      "9 set([73, 74, 77, 78])\n"
     ]
    }
   ],
   "source": [
    "for index in range(10):\n",
    "    strings=set()\n",
    "    for k, v in grid.items():\n",
    "        if v[1] == index:\n",
    "            #print k[0] # print string\n",
    "            strings.add(k[0])\n",
    "    print index, strings"
   ]
  },
  {
   "cell_type": "code",
   "execution_count": 37,
   "metadata": {
    "collapsed": false
   },
   "outputs": [
    {
     "data": {
      "text/plain": [
       "matrix([[-1,  3]])"
      ]
     },
     "execution_count": 37,
     "metadata": {},
     "output_type": "execute_result"
    }
   ],
   "source": [
    "np.dot(rot_mat, [1,2])[0]"
   ]
  },
  {
   "cell_type": "code",
   "execution_count": 66,
   "metadata": {
    "collapsed": false
   },
   "outputs": [
    {
     "name": "stdout",
     "output_type": "stream",
     "text": [
      "1.0\n",
      "[0.5, 1.5, 2.5, 3.5, 4.5, 5.5, 6.5, 7.5, 8.5, 9.5]\n",
      "[0.0, 1.0, 2.0, 3.0, 4.0, 5.0, 6.0, 7.0, 8.0, 9.0]\n"
     ]
    }
   ],
   "source": [
    "zh=10\n",
    "zpos=[i+0.5 for i in range(0,10)]\n",
    "zmin, zmax = np.min(zpos), np.max(zpos)\n",
    "delta_z = (zmax - zmin)/(zh-1)\n",
    "print delta_z\n",
    "zmin, zmaz = zmin - delta_z/2, zmax + delta_z/2\n",
    "zpos_h=sorted(zpos)\n",
    "print zpos_h\n",
    "print [zmin + i*delta_z for i in range(zh)]"
   ]
  },
  {
   "cell_type": "code",
   "execution_count": null,
   "metadata": {
    "collapsed": true
   },
   "outputs": [],
   "source": []
  }
 ],
 "metadata": {
  "kernelspec": {
   "display_name": "Python 2",
   "language": "python",
   "name": "python2"
  },
  "language_info": {
   "codemirror_mode": {
    "name": "ipython",
    "version": 2
   },
   "file_extension": ".py",
   "mimetype": "text/x-python",
   "name": "python",
   "nbconvert_exporter": "python",
   "pygments_lexer": "ipython2",
   "version": "2.7.10"
  }
 },
 "nbformat": 4,
 "nbformat_minor": 0
}
