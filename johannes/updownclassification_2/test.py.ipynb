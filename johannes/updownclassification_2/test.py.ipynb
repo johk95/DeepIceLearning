{
 "cells": [
  {
   "cell_type": "code",
   "execution_count": 11,
   "metadata": {
    "collapsed": false
   },
   "outputs": [
    {
     "name": "stdout",
     "output_type": "stream",
     "text": [
      "1.0\n",
      "[6 7]\n",
      "change preprocessing to fake\n",
      "[4 2]\n"
     ]
    }
   ],
   "source": [
    "#!/usr/bin/env python\n",
    "# coding: utf-8\n",
    "\n",
    "# this script uses theos datasets. That is a try to reduce overfitting\n",
    "\n",
    "import jkutils as jkutils\n",
    "from jkutils import preprocess, zenith_to_binary, read_files\n",
    "import os\n",
    "import sys\n",
    "import numpy as np\n",
    "\n",
    "def fake_preprocess(data, replace_with=0):\n",
    "    return data\n",
    "        \n",
    "def generator(): \n",
    "    #even when using charge as input this could be left as it is (preprocess will not find any inf values)\n",
    "    preprocess = jkutils.preprocess\n",
    "    if 'args' in globals():\n",
    "        if args[\"using\"] == 'charge':\n",
    "            print \"change preprocessing to fake\"\n",
    "            preprocess = fake_preprocess\n",
    "    return preprocess(np.array([4,2]))\n",
    "            \n",
    "    \n",
    "print zenith_to_binary(5)\n",
    "print preprocess(np.array([6,7]))\n",
    "args = dict()\n",
    "args[\"using\"] = \"charge\"\n",
    "test_out = generator()\n",
    "print test_out"
   ]
  },
  {
   "cell_type": "code",
   "execution_count": null,
   "metadata": {
    "collapsed": true
   },
   "outputs": [],
   "source": []
  }
 ],
 "metadata": {
  "kernelspec": {
   "display_name": "Python 2",
   "language": "python",
   "name": "python2"
  },
  "language_info": {
   "codemirror_mode": {
    "name": "ipython",
    "version": 2
   },
   "file_extension": ".py",
   "mimetype": "text/x-python",
   "name": "python",
   "nbconvert_exporter": "python",
   "pygments_lexer": "ipython2",
   "version": "2.7.10"
  }
 },
 "nbformat": 4,
 "nbformat_minor": 0
}
