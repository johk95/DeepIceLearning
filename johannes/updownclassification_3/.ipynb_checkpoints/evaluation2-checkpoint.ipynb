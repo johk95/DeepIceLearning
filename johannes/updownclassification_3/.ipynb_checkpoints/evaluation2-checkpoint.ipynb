{
 "cells": [
  {
   "cell_type": "markdown",
   "metadata": {},
   "source": [
    "# see what angles get reconstructed well"
   ]
  },
  {
   "cell_type": "code",
   "execution_count": 4,
   "metadata": {
    "collapsed": false,
    "scrolled": false
   },
   "outputs": [],
   "source": [
    "import jkutils\n",
    "import os, sys\n",
    "import numpy as np\n",
    "import scipy.stats as stats\n",
    "from keras.models import load_model\n",
    "import math\n",
    "import shelve\n",
    "import itertools\n",
    "import seaborn as sns\n",
    "import matplotlib.pyplot as plt\n",
    "% matplotlib inline"
   ]
  },
  {
   "cell_type": "markdown",
   "metadata": {},
   "source": [
    "# analyze test_results"
   ]
  },
  {
   "cell_type": "code",
   "execution_count": 5,
   "metadata": {
    "collapsed": true
   },
   "outputs": [],
   "source": [
    "#charge\n",
    "today = '2017-08-24'\n",
    "project_name = 'charge_h012_v1'"
   ]
  },
  {
   "cell_type": "code",
   "execution_count": 6,
   "metadata": {
    "collapsed": true
   },
   "outputs": [],
   "source": [
    "#time\n",
    "today = '2017-08-24'\n",
    "project_name = 'time_h012_v1'"
   ]
  },
  {
   "cell_type": "code",
   "execution_count": 7,
   "metadata": {
    "collapsed": false
   },
   "outputs": [
    {
     "name": "stdout",
     "output_type": "stream",
     "text": [
      "looking for train_hist/2017-08-24/time_h012_v1\n",
      "found\n"
     ]
    }
   ],
   "source": [
    "file_location = '/data/user/jkager/NN_Reco/johannes/updownclassification_3/'\n",
    "data_location = '/data/user/jkager/NN_Reco/training_data_20x10x60/'\n",
    "test_results = 'test_results.npy'\n",
    "\n",
    "project_folder = 'train_hist/{}/{}'.format(today, project_name)\n",
    "print \"looking for\", project_folder\n",
    "if not os.path.exists(os.path.join(file_location,project_folder)):\n",
    "    print \"project not found. exiting...\"\n",
    "    sys.exit(-1)\n",
    "elif not os.path.exists(os.path.join(file_location, project_folder, test_results)):\n",
    "    print \"test results not found. exiting...\"\n",
    "    sys.exit(-1)\n",
    "print \"found\"\n",
    "shelf = shelve.open(os.path.join(file_location, project_folder, 'run_info.shlf'))\n",
    "input_files = shelf['Files'].split(':')\n",
    "if len(input_files) == 1: #this could be something like ['h01'] (inputformat)\n",
    "    #try to decode fileinput format\n",
    "    input_files = jkutils.get_filenames(input_files[0])\n",
    "    for f in input_files:\n",
    "        if not os.path.isfile(os.path.join(data_location, 'training_data/{}'.format(f))):\n",
    "            print \"file not found:\", f\n",
    "            print \"exiting script.\"\n",
    "            sys.exit(1)\n",
    "train_inds = shelf['Train_Inds'] \n",
    "valid_inds = shelf['Valid_Inds']\n",
    "test_inds = shelf['Test_Inds']\n",
    "test_results = np.load(os.path.join(file_location, project_folder, test_results))\n",
    "input_data, out_data, file_len = jkutils.read_files(input_files, data_location, using=shelf['using'])"
   ]
  },
  {
   "cell_type": "markdown",
   "metadata": {},
   "source": [
    "res is the output value of the network. test_out is the expected value (0 or 1, up or down depending on the real zenith value). zenith_out is the real zenith value"
   ]
  },
  {
   "cell_type": "code",
   "execution_count": 5,
   "metadata": {
    "collapsed": true
   },
   "outputs": [],
   "source": [
    "res, test_out, zenith_out = test_results[0,:], test_results[1,:], test_results[2,:] #network output (0 or 1), \n",
    "                                                                                    #desired output (0 or 1),\n",
    "                                                                                    #zenith (0 to pi)"
   ]
  },
  {
   "cell_type": "code",
   "execution_count": 52,
   "metadata": {
    "collapsed": false
   },
   "outputs": [
    {
     "name": "stdout",
     "output_type": "stream",
     "text": [
      "12 14 0.0\n",
      "40 41 1.0\n",
      "47 56 2.0\n",
      "92 103 3.0\n",
      "120 133 4.0\n",
      "140 150 5.0\n",
      "177 188 6.0\n",
      "208 225 7.0\n",
      "208 227 8.0\n",
      "223 235 9.0\n",
      "253 280 10.0\n",
      "244 260 11.0\n",
      "276 294 12.0\n",
      "255 287 13.0\n",
      "280 301 14.0\n",
      "310 331 15.0\n",
      "302 336 16.0\n",
      "321 357 17.0\n",
      "364 407 18.0\n",
      "319 356 19.0\n",
      "364 393 20.0\n",
      "391 421 21.0\n",
      "385 434 22.0\n",
      "373 402 23.0\n",
      "410 466 24.0\n",
      "367 422 25.0\n",
      "386 434 26.0\n",
      "412 453 27.0\n",
      "391 430 28.0\n",
      "437 489 29.0\n",
      "408 475 30.0\n",
      "414 468 31.0\n",
      "437 493 32.0\n",
      "432 483 33.0\n",
      "443 496 34.0\n",
      "446 495 35.0\n",
      "459 518 36.0\n",
      "499 545 37.0\n",
      "474 531 38.0\n",
      "518 581 39.0\n",
      "465 513 40.0\n",
      "502 538 41.0\n",
      "500 539 42.0\n",
      "554 589 43.0\n",
      "496 547 44.0\n",
      "538 589 45.0\n",
      "583 641 46.0\n",
      "551 593 47.0\n",
      "555 602 48.0\n",
      "556 606 49.0\n",
      "577 611 50.0\n",
      "626 652 51.0\n",
      "595 621 52.0\n",
      "656 698 53.0\n",
      "602 644 54.0\n",
      "678 702 55.0\n",
      "696 722 56.0\n",
      "716 745 57.0\n",
      "675 703 58.0\n",
      "784 824 59.0\n",
      "743 771 60.0\n",
      "755 785 61.0\n",
      "765 798 62.0\n",
      "816 840 63.0\n",
      "771 791 64.0\n",
      "848 871 65.0\n",
      "826 848 66.0\n",
      "903 921 67.0\n",
      "838 854 68.0\n",
      "893 911 69.0\n",
      "962 977 70.0\n",
      "963 979 71.0\n",
      "981 1001 72.0\n",
      "991 1014 73.0\n",
      "1050 1072 74.0\n",
      "971 994 75.0\n",
      "989 1005 76.0\n",
      "1053 1076 77.0\n",
      "1025 1047 78.0\n",
      "1081 1118 79.0\n",
      "1038 1066 80.0\n",
      "1069 1124 81.0\n",
      "1047 1128 82.0\n",
      "1111 1228 83.0\n",
      "1094 1299 84.0\n",
      "1029 1335 85.0\n",
      "872 1309 86.0\n",
      "722 1196 87.0\n",
      "689 1261 88.0\n",
      "566 1256 89.0\n",
      "728 1196 90.0\n",
      "860 1243 91.0\n",
      "933 1214 92.0\n",
      "1013 1240 93.0\n",
      "1068 1234 94.0\n",
      "994 1139 95.0\n",
      "1086 1209 96.0\n",
      "1118 1231 97.0\n",
      "1058 1130 98.0\n",
      "1073 1182 99.0\n",
      "1032 1099 100.0\n",
      "1094 1160 101.0\n",
      "1136 1209 102.0\n",
      "1095 1144 103.0\n",
      "1065 1128 104.0\n",
      "1101 1143 105.0\n",
      "1060 1105 106.0\n",
      "1115 1168 107.0\n",
      "1091 1132 108.0\n",
      "1042 1074 109.0\n",
      "1047 1078 110.0\n",
      "1038 1076 111.0\n",
      "1127 1154 112.0\n",
      "1086 1115 113.0\n",
      "1081 1112 114.0\n",
      "1042 1059 115.0\n",
      "980 1009 116.0\n",
      "1035 1066 117.0\n",
      "1049 1075 118.0\n",
      "962 988 119.0\n",
      "1011 1046 120.0\n",
      "955 980 121.0\n",
      "926 944 122.0\n",
      "897 922 123.0\n",
      "918 940 124.0\n",
      "951 969 125.0\n",
      "929 949 126.0\n",
      "861 886 127.0\n",
      "907 925 128.0\n",
      "905 928 129.0\n",
      "875 895 130.0\n",
      "815 831 131.0\n",
      "838 853 132.0\n",
      "783 797 133.0\n",
      "835 854 134.0\n",
      "766 784 135.0\n",
      "760 771 136.0\n",
      "753 774 137.0\n",
      "750 758 138.0\n",
      "735 746 139.0\n",
      "674 682 140.0\n",
      "706 717 141.0\n",
      "703 713 142.0\n",
      "652 664 143.0\n",
      "637 658 144.0\n",
      "620 632 145.0\n",
      "657 672 146.0\n",
      "646 656 147.0\n",
      "548 557 148.0\n",
      "589 601 149.0\n",
      "616 620 150.0\n",
      "547 556 151.0\n",
      "509 515 152.0\n",
      "488 498 153.0\n",
      "545 550 154.0\n",
      "468 474 155.0\n",
      "460 468 156.0\n",
      "473 479 157.0\n",
      "447 455 158.0\n",
      "460 471 159.0\n",
      "421 425 160.0\n",
      "386 390 161.0\n",
      "392 400 162.0\n",
      "355 358 163.0\n",
      "311 315 164.0\n",
      "324 328 165.0\n",
      "286 290 166.0\n",
      "269 272 167.0\n",
      "247 248 168.0\n",
      "259 263 169.0\n",
      "213 216 170.0\n",
      "194 199 171.0\n",
      "170 172 172.0\n",
      "159 162 173.0\n",
      "131 136 174.0\n",
      "101 101 175.0\n",
      "93 94 176.0\n",
      "58 59 177.0\n",
      "29 29 178.0\n",
      "13 13 179.0\n",
      "0.927411118912\n"
     ]
    }
   ],
   "source": [
    "bins = 10*18+1\n",
    "x_hist = np.linspace(0,math.pi,bins)\n",
    "y_hist = np.zeros((bins-1))\n",
    "cor, summe = 0, 0\n",
    "for i in range(len(x_hist)-1):\n",
    "    indizes = np.bitwise_and(zenith_out >= x_hist[i], zenith_out < x_hist[i+1])\n",
    "    correct = np.sum(np.round(res[indizes]) == jkutils.zenith_to_binary(zenith_out[indizes]))\n",
    "    print correct, np.sum(indizes), x_hist[i] * 180/math.pi\n",
    "    cor += correct\n",
    "    summe += np.sum(indizes)\n",
    "    y_hist[i] = float(correct)/np.sum(indizes)\n",
    "print cor / float(summe)"
   ]
  },
  {
   "cell_type": "code",
   "execution_count": 53,
   "metadata": {
    "collapsed": false
   },
   "outputs": [
    {
     "data": {
      "image/png": "[encoded data removed]",
      "text/plain": [
       "<matplotlib.figure.Figure at 0x7f9d217af710>"
      ]
     },
     "metadata": {},
     "output_type": "display_data"
    }
   ],
   "source": [
    "plt.figure()\n",
    "plt.plot(x_hist[:-1]+math.pi/(bins-1)/2,y_hist)\n",
    "plt.xlabel('zenith')\n",
    "plt.show()"
   ]
  },
  {
   "cell_type": "code",
   "execution_count": 8,
   "metadata": {
    "collapsed": false
   },
   "outputs": [],
   "source": [
    "true_pos, true_neg = 0, 0\n",
    "false_pos, false_neg = 0, 0\n",
    "reals, preds = [], []\n",
    "for pred, real in zip(res, test_out):\n",
    "    if real == 1:\n",
    "        if pred < 0.5:\n",
    "            false_neg += 1\n",
    "        else:\n",
    "            true_pos += 1\n",
    "    if real == 0:\n",
    "        if pred > 0.5:\n",
    "            false_pos += 1\n",
    "        else:\n",
    "            true_neg += 1\n",
    "    reals.append(real)\n",
    "    preds.append(pred)"
   ]
  },
  {
   "cell_type": "code",
   "execution_count": 9,
   "metadata": {
    "collapsed": false
   },
   "outputs": [
    {
     "name": "stdout",
     "output_type": "stream",
     "text": [
      "         |    pos    |    neg    \n",
      "---------+-----------+-----------\n",
      "test pos |     51.25%|      4.44%\n",
      "test neg |      2.82%|     41.49%\n",
      "---------+-----------+-----------\n",
      "---------+-----------+-----------\n",
      "         |    pos    |    neg    \n",
      "---------+-----------+-----------\n",
      "test pos |    6423500|     556100\n",
      "test neg |     353700|    5200300\n"
     ]
    }
   ],
   "source": [
    "print \"         |    pos    |    neg    \"\n",
    "print \"---------+-----------+-----------\"\n",
    "sum_all = true_pos + false_pos + true_neg + false_neg\n",
    "if sum_all == 0:\n",
    "    print \"no data\"\n",
    "print \"test pos |{:10.2f}%|{:10.2f}%\".format(100 * true_pos / float(sum_all), 100 * false_pos / float(sum_all))\n",
    "print \"test neg |{:10.2f}%|{:10.2f}%\".format(100 * false_neg / float(sum_all), 100 * true_neg / float(sum_all))\n",
    "\n",
    "\n",
    "print \"---------+-----------+-----------\\n\"*2,    \n",
    "print \"         |    pos    |    neg    \"\n",
    "print \"---------+-----------+-----------\" \n",
    "print \"test pos |{:11.0f}|{:11.0f}\".format(100 * true_pos, 100 * false_pos)\n",
    "print \"test neg |{:11.0f}|{:11.0f}\".format(100 * false_neg, 100 * true_neg)"
   ]
  },
  {
   "cell_type": "code",
   "execution_count": 11,
   "metadata": {
    "collapsed": false
   },
   "outputs": [
    {
     "name": "stdout",
     "output_type": "stream",
     "text": [
      "(1.0, 0.9986264705657959)\n",
      "(1.0, 0.16152086853981018)\n",
      "(0.0, 0.00034043632331304252)\n",
      "(1.0, 0.99805128574371338)\n",
      "(1.0, 0.99730503559112549)\n",
      "(1.0, 0.99995172023773193)\n",
      "(1.0, 0.99906235933303833)\n",
      "(1.0, 0.99985742568969727)\n",
      "(0.0, 1.0549966646067332e-05)\n",
      "(1.0, 0.97882163524627686)\n",
      "(1.0, 0.18986433744430542)\n",
      "(1.0, 0.95469653606414795)\n",
      "(0.0, 0.0014480318641290069)\n",
      "(1.0, 0.31810095906257629)\n",
      "(1.0, 0.99770206212997437)\n",
      "(0.0, 0.19017940759658813)\n",
      "(1.0, 0.99577635526657104)\n",
      "(0.0, 0.003799935569986701)\n",
      "(1.0, 0.99764388799667358)\n",
      "(1.0, 0.98945504426956177)\n",
      "(1.0, 0.99902582168579102)\n",
      "(1.0, 0.9982638955116272)\n",
      "(1.0, 0.99820089340209961)\n",
      "(0.0, 0.0076321708038449287)\n",
      "(1.0, 0.9993627667427063)\n",
      "(1.0, 0.97248071432113647)\n",
      "(1.0, 0.99826329946517944)\n",
      "(0.0, 0.0073660095222294331)\n",
      "(1.0, 0.89859479665756226)\n",
      "(0.0, 0.01819021999835968)\n",
      "(1.0, 0.99906164407730103)\n",
      "(1.0, 0.98411464691162109)\n",
      "(0.0, 0.31598615646362305)\n",
      "(1.0, 0.75635993480682373)\n",
      "(0.0, 0.005715253297239542)\n",
      "(0.0, 0.15248973667621613)\n",
      "(1.0, 0.99998247623443604)\n",
      "(1.0, 0.99910742044448853)\n",
      "(0.0, 0.011095691472291946)\n",
      "(1.0, 0.9407692551612854)\n",
      "(1.0, 0.99839597940444946)\n",
      "(1.0, 0.99650311470031738)\n",
      "(0.0, 0.013617223128676414)\n",
      "(0.0, 0.068667620420455933)\n",
      "(0.0, 0.0002420451637590304)\n",
      "(0.0, 0.025965798646211624)\n",
      "(1.0, 0.99942421913146973)\n",
      "(1.0, 0.99042153358459473)\n",
      "(1.0, 0.99984633922576904)\n",
      "(0.0, 0.4313424825668335)\n",
      "(1.0, 0.94881874322891235)\n",
      "(0.0, 0.15115551650524139)\n",
      "(1.0, 0.9999687671661377)\n",
      "(0.0, 0.0011367795523256063)\n",
      "(1.0, 0.9976685643196106)\n",
      "(1.0, 0.11147563904523849)\n",
      "(1.0, 0.99990522861480713)\n",
      "(1.0, 0.99977439641952515)\n",
      "(0.0, 0.21738384664058685)\n",
      "(0.0, 0.010715526528656483)\n",
      "(0.0, 0.00015386902668979019)\n",
      "(1.0, 0.98725950717926025)\n",
      "(1.0, 0.96526551246643066)\n",
      "(0.0, 0.0014088005991652608)\n",
      "(1.0, 0.97129142284393311)\n",
      "(0.0, 0.00058845675084739923)\n",
      "(1.0, 0.42578601837158203)\n",
      "(1.0, 0.99943166971206665)\n",
      "(1.0, 0.99944311380386353)\n",
      "(0.0, 0.0053276345133781433)\n",
      "(0.0, 0.00020881417731288821)\n",
      "(1.0, 0.63596725463867188)\n",
      "(1.0, 0.99982517957687378)\n",
      "(0.0, 0.00051611405797302723)\n",
      "(1.0, 0.99685466289520264)\n",
      "(0.0, 0.42628845572471619)\n",
      "(0.0, 0.97507655620574951)\n",
      "(0.0, 2.3277705167856766e-06)\n",
      "(1.0, 0.99895751476287842)\n",
      "(1.0, 0.99909543991088867)\n",
      "(1.0, 0.99930846691131592)\n",
      "(1.0, 0.64555394649505615)\n",
      "(0.0, 0.00026048781001009047)\n",
      "(1.0, 0.99803513288497925)\n",
      "(1.0, 0.99871277809143066)\n",
      "(1.0, 0.99252843856811523)\n",
      "(0.0, 0.19949710369110107)\n",
      "(1.0, 0.99766987562179565)\n",
      "(0.0, 0.043768249452114105)\n",
      "(1.0, 0.99173682928085327)\n",
      "(0.0, 0.75701957941055298)\n",
      "(1.0, 0.97407042980194092)\n",
      "(0.0, 0.38373908400535583)\n",
      "(1.0, 0.46087321639060974)\n",
      "(0.0, 0.00075485551496967673)\n",
      "(1.0, 0.99675792455673218)\n",
      "(0.0, 0.0018379669636487961)\n",
      "(0.0, 0.0022170331794768572)\n",
      "(1.0, 0.99922382831573486)\n",
      "(1.0, 0.98809099197387695)\n",
      "(0.0, 4.4341748434817418e-05)\n",
      "(1.0, 0.98653095960617065)\n",
      "(1.0, 0.99561643600463867)\n",
      "(0.0, 0.018911426886916161)\n",
      "(0.0, 0.00071681413101032376)\n",
      "(1.0, 0.99946326017379761)\n",
      "(1.0, 0.99305951595306396)\n",
      "(0.0, 0.00091928290203213692)\n",
      "(0.0, 1.8200602426077239e-05)\n",
      "(1.0, 0.9900364875793457)\n",
      "(0.0, 0.067984834313392639)\n",
      "(0.0, 0.00027902360307052732)\n",
      "(1.0, 0.99400371313095093)\n",
      "(0.0, 0.006368064321577549)\n",
      "(1.0, 0.99975353479385376)\n",
      "(0.0, 0.0022720226552337408)\n",
      "(1.0, 0.99995315074920654)\n",
      "(1.0, 0.99771022796630859)\n",
      "(0.0, 0.0065533686429262161)\n",
      "(0.0, 3.7240704386931611e-07)\n",
      "(0.0, 0.00018667250697035342)\n",
      "(1.0, 0.99954777956008911)\n",
      "(0.0, 0.00033498075208626688)\n",
      "(1.0, 0.99988663196563721)\n",
      "(0.0, 0.67404896020889282)\n",
      "(0.0, 0.99794465303421021)\n",
      "(0.0, 7.1068789111450315e-05)\n",
      "(1.0, 0.99835985898971558)\n",
      "(0.0, 0.011531888507306576)\n",
      "(0.0, 0.00030642564524896443)\n",
      "(0.0, 0.28424260020256042)\n",
      "(0.0, 5.653679181705229e-05)\n",
      "(1.0, 0.99921119213104248)\n",
      "(1.0, 0.99772363901138306)\n",
      "(1.0, 0.99503123760223389)\n",
      "(1.0, 0.95404624938964844)\n",
      "(0.0, 0.26072102785110474)\n",
      "(0.0, 0.0018986948998644948)\n",
      "(0.0, 0.0021035121753811836)\n",
      "(1.0, 0.98744070529937744)\n",
      "(0.0, 9.4722847279626876e-05)\n",
      "(1.0, 0.98929029703140259)\n",
      "(1.0, 0.97670751810073853)\n",
      "(1.0, 0.99624663591384888)\n",
      "(0.0, 2.2313513909466565e-05)\n",
      "(1.0, 0.9990425705909729)\n",
      "(0.0, 0.00056536082411184907)\n",
      "(0.0, 0.00014954208745621145)\n",
      "(1.0, 0.99927991628646851)\n",
      "(0.0, 5.7184806792065501e-05)\n",
      "(0.0, 1.1077520866820123e-05)\n",
      "(1.0, 0.9994056224822998)\n",
      "(1.0, 0.9842413067817688)\n",
      "(1.0, 0.99880790710449219)\n",
      "(1.0, 0.98142307996749878)\n",
      "(0.0, 0.0013357817661017179)\n",
      "(0.0, 9.9478806077968329e-05)\n",
      "(1.0, 0.99852210283279419)\n",
      "(0.0, 0.98310995101928711)\n",
      "(1.0, 0.98692071437835693)\n",
      "(1.0, 0.93043804168701172)\n",
      "(1.0, 0.99936717748641968)\n",
      "(0.0, 0.018067605793476105)\n",
      "(0.0, 0.82801109552383423)\n",
      "(0.0, 0.00018288935825694352)\n",
      "(0.0, 0.27454802393913269)\n",
      "(1.0, 0.97480326890945435)\n",
      "(0.0, 0.00045538970152847469)\n",
      "(0.0, 0.0009579229517839849)\n",
      "(0.0, 0.86608302593231201)\n",
      "(1.0, 0.48396199941635132)\n",
      "(1.0, 0.99486082792282104)\n",
      "(0.0, 0.00069238326977938414)\n",
      "(0.0, 0.0016305060125887394)\n",
      "(1.0, 0.16059389710426331)\n",
      "(1.0, 0.99819284677505493)\n",
      "(1.0, 0.82678443193435669)\n",
      "(0.0, 0.0039160028100013733)\n",
      "(1.0, 0.99629873037338257)\n",
      "(1.0, 0.9982452392578125)\n",
      "(1.0, 0.99996757507324219)\n",
      "(0.0, 0.00022756002726964653)\n",
      "(1.0, 0.99210619926452637)\n",
      "(1.0, 0.99849033355712891)\n",
      "(1.0, 0.99436366558074951)\n",
      "(1.0, 0.98706543445587158)\n",
      "(1.0, 0.99962377548217773)\n",
      "(1.0, 0.10434229671955109)\n",
      "(1.0, 0.99850523471832275)\n",
      "(1.0, 0.99993860721588135)\n",
      "(1.0, 0.99580562114715576)\n",
      "(1.0, 0.99982821941375732)\n",
      "(1.0, 0.99929237365722656)\n",
      "(1.0, 0.91405010223388672)\n",
      "(0.0, 0.010764273814857006)\n",
      "(0.0, 0.9645923376083374)\n",
      "(1.0, 0.9976000189781189)\n",
      "(1.0, 0.99755823612213135)\n",
      "(1.0, 0.99973636865615845)\n",
      "(0.0, 0.91112267971038818)\n"
     ]
    }
   ],
   "source": [
    "print \"\\n\".join(map(str, zip(reals, preds))[:200])"
   ]
  },
  {
   "cell_type": "markdown",
   "metadata": {},
   "source": [
    "##now with filtering by number of hit doms"
   ]
  },
  {
   "cell_type": "code",
   "execution_count": null,
   "metadata": {
    "collapsed": true
   },
   "outputs": [],
   "source": []
  },
  {
   "cell_type": "markdown",
   "metadata": {
    "collapsed": true
   },
   "source": [
    "## accuracy over number of hit bins"
   ]
  },
  {
   "cell_type": "code",
   "execution_count": 27,
   "metadata": {
    "collapsed": true
   },
   "outputs": [],
   "source": [
    "def num_hit_bins(input_set):\n",
    "    ret = 0\n",
    "    for i in input_set.flatten():\n",
    "        if i is not np.inf:\n",
    "            ret += 1\n",
    "    return ret"
   ]
  },
  {
   "cell_type": "code",
   "execution_count": 54,
   "metadata": {
    "collapsed": true
   },
   "outputs": [],
   "source": [
    "def get_pos_in_res(i_file, i_in_testsets):\n",
    "    before = sum([test_inds[i][1] - test_inds[i][0] for i in range(i_file)])\n",
    "    return before + i_in_testsets"
   ]
  },
  {
   "cell_type": "code",
   "execution_count": null,
   "metadata": {
    "collapsed": false
   },
   "outputs": [],
   "source": [
    "bins = 100\n",
    "input_shape = input_data[0].shape[1:-1]\n",
    "x_bins = np.linspace(0,reduce(lambda x, y: x*y, input_shape),bins)\n",
    "y_acc = [[] for i in range(splits-1)]\n",
    "cor, summe = 0, 0\n",
    "for file_n in range(len(input_data)):\n",
    "    for i, inp_s in enumerate(input_data[file_n][test_inds[file_n][0]:test_inds[file_n][1]]):\n",
    "        n_hit = num_hit_bins(inp_s)\n",
    "        bin_n = np.digitize(np.array([n_hit]), x_bins)[0]\n",
    "        #remember if it was correctly reconstructed\n",
    "        index = get_pos_in_res(file_n, i)\n",
    "        correct = np.round(res[index]) == jkutils.zenith_to_binary(zenith_out[index]) #latter is same as tet_out\n",
    "        y_acc[file_n].append(correct)\n",
    "y_acc = [float(sum(i))/len(i) for i in y_acc]"
   ]
  },
  {
   "cell_type": "code",
   "execution_count": null,
   "metadata": {
    "collapsed": true
   },
   "outputs": [],
   "source": [
    "plt.figure()\n",
    "plt.plot(x_bins[:-1]+float(x_bins[-1]-x_bins[0])/(len(x_bins)-1)/2, y_acc)\n",
    "plt.xlabel('zenith')\n",
    "plt.show()"
   ]
  },
  {
   "cell_type": "code",
   "execution_count": 23,
   "metadata": {
    "collapsed": false
   },
   "outputs": [
    {
     "data": {
      "text/plain": [
       "<HDF5 dataset \"time\": shape (207254, 20, 10, 60, 1), type \"<f8\">"
      ]
     },
     "execution_count": 23,
     "metadata": {},
     "output_type": "execute_result"
    }
   ],
   "source": [
    "input_data[0]"
   ]
  },
  {
   "cell_type": "code",
   "execution_count": 26,
   "metadata": {
    "collapsed": false
   },
   "outputs": [
    {
     "data": {
      "text/plain": [
       "True"
      ]
     },
     "execution_count": 26,
     "metadata": {},
     "output_type": "execute_result"
    }
   ],
   "source": [
    "input_data[0][0].flatten()[0] == np.inf"
   ]
  },
  {
   "cell_type": "code",
   "execution_count": 35,
   "metadata": {
    "collapsed": false
   },
   "outputs": [
    {
     "data": {
      "text/plain": [
       "array([     0.        ,    121.21212121,    242.42424242,    363.63636364,\n",
       "          484.84848485,    606.06060606,    727.27272727,    848.48484848,\n",
       "          969.6969697 ,   1090.90909091,   1212.12121212,   1333.33333333,\n",
       "         1454.54545455,   1575.75757576,   1696.96969697,   1818.18181818,\n",
       "         1939.39393939,   2060.60606061,   2181.81818182,   2303.03030303,\n",
       "         2424.24242424,   2545.45454545,   2666.66666667,   2787.87878788,\n",
       "         2909.09090909,   3030.3030303 ,   3151.51515152,   3272.72727273,\n",
       "         3393.93939394,   3515.15151515,   3636.36363636,   3757.57575758,\n",
       "         3878.78787879,   4000.        ,   4121.21212121,   4242.42424242,\n",
       "         4363.63636364,   4484.84848485,   4606.06060606,   4727.27272727,\n",
       "         4848.48484848,   4969.6969697 ,   5090.90909091,   5212.12121212,\n",
       "         5333.33333333,   5454.54545455,   5575.75757576,   5696.96969697,\n",
       "         5818.18181818,   5939.39393939,   6060.60606061,   6181.81818182,\n",
       "         6303.03030303,   6424.24242424,   6545.45454545,   6666.66666667,\n",
       "         6787.87878788,   6909.09090909,   7030.3030303 ,   7151.51515152,\n",
       "         7272.72727273,   7393.93939394,   7515.15151515,   7636.36363636,\n",
       "         7757.57575758,   7878.78787879,   8000.        ,   8121.21212121,\n",
       "         8242.42424242,   8363.63636364,   8484.84848485,   8606.06060606,\n",
       "         8727.27272727,   8848.48484848,   8969.6969697 ,   9090.90909091,\n",
       "         9212.12121212,   9333.33333333,   9454.54545455,   9575.75757576,\n",
       "         9696.96969697,   9818.18181818,   9939.39393939,  10060.60606061,\n",
       "        10181.81818182,  10303.03030303,  10424.24242424,  10545.45454545,\n",
       "        10666.66666667,  10787.87878788,  10909.09090909,  11030.3030303 ,\n",
       "        11151.51515152,  11272.72727273,  11393.93939394,  11515.15151515,\n",
       "        11636.36363636,  11757.57575758,  11878.78787879,  12000.        ])"
      ]
     },
     "execution_count": 35,
     "metadata": {},
     "output_type": "execute_result"
    }
   ],
   "source": [
    "x_bins"
   ]
  },
  {
   "cell_type": "code",
   "execution_count": null,
   "metadata": {
    "collapsed": true
   },
   "outputs": [],
   "source": []
  }
 ],
 "metadata": {
  "kernelspec": {
   "display_name": "Python 2",
   "language": "python",
   "name": "python2"
  },
  "language_info": {
   "codemirror_mode": {
    "name": "ipython",
    "version": 2
   },
   "file_extension": ".py",
   "mimetype": "text/x-python",
   "name": "python",
   "nbconvert_exporter": "python",
   "pygments_lexer": "ipython2",
   "version": "2.7.10"
  }
 },
 "nbformat": 4,
 "nbformat_minor": 0
}
