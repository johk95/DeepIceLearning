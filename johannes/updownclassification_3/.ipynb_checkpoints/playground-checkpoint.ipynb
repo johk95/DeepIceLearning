{
 "cells": [
  {
   "cell_type": "code",
   "execution_count": 3,
   "metadata": {
    "collapsed": true
   },
   "outputs": [],
   "source": [
    "import subprocess\n",
    "import argparse"
   ]
  },
  {
   "cell_type": "code",
   "execution_count": 2,
   "metadata": {
    "collapsed": true
   },
   "outputs": [],
   "source": [
    "subprocess.check_output?"
   ]
  },
  {
   "cell_type": "code",
   "execution_count": 92,
   "metadata": {
    "collapsed": false
   },
   "outputs": [],
   "source": [
    "parser = argparse.ArgumentParser()\n",
    "parser.add_argument('--foo', action='store_true')\n",
    "parser.add_argument('--bar')\n",
    "parser.add_argument(\"--nosubmit\", nargs='?', const=True, default=argparse.SUPPRESS)\n",
    "args = parser.parse_known_args(['--foo', '--bar=trappp', 'blubb test', '--badger', 'spam', '--nosubmit'])"
   ]
  },
  {
   "cell_type": "code",
   "execution_count": 93,
   "metadata": {
    "collapsed": false
   },
   "outputs": [
    {
     "data": {
      "text/plain": [
       "({'bar': 'blubb test', 'foo': True, 'nosubmit': True}, ['--badger', 'spam'])"
      ]
     },
     "execution_count": 93,
     "metadata": {},
     "output_type": "execute_result"
    }
   ],
   "source": [
    "args[0].__dict__, args[1]"
   ]
  },
  {
   "cell_type": "code",
   "execution_count": 94,
   "metadata": {
    "collapsed": false
   },
   "outputs": [],
   "source": [
    "args, unknown = args[0].__dict__, args[1]"
   ]
  },
  {
   "cell_type": "code",
   "execution_count": 95,
   "metadata": {
    "collapsed": false
   },
   "outputs": [
    {
     "name": "stdout",
     "output_type": "stream",
     "text": [
      "Passing these arguments:\n",
      "['--foo', 'True', '--bar', 'blubb test', '--badger', 'spam']\n"
     ]
    }
   ],
   "source": [
    "arguments = []\n",
    "for a in filter(lambda s: 'nosubmit' not in s, args):\n",
    "\targuments.extend([\"--\"+a, str(args[a])])\n",
    "arguments.extend(unknown)\n",
    "print \"Passing these arguments:\"\n",
    "print arguments"
   ]
  },
  {
   "cell_type": "code",
   "execution_count": 50,
   "metadata": {
    "collapsed": false
   },
   "outputs": [
    {
     "name": "stdout",
     "output_type": "stream",
     "text": [
      "error code 1 0\n"
     ]
    }
   ],
   "source": [
    "try:\n",
    "    p=subprocess.check_output(['../updownclassification_3/updown_network.py','--tespla'])\n",
    "except subprocess.CalledProcessError as grepexc:                                                                                                   \n",
    "    print \"error code\", grepexc.returncode, len(grepexc.output)"
   ]
  },
  {
   "cell_type": "code",
   "execution_count": 52,
   "metadata": {
    "collapsed": false
   },
   "outputs": [
    {
     "name": "stdout",
     "output_type": "stream",
     "text": [
      "script returned 1\n",
      "\n",
      " ############################################\n",
      "You are running the network script with arguments: \n",
      "virtual_len: -1\n",
      "testing: False\n",
      "filesizes: True\n",
      "project: updown_NN\n",
      "crtfolders: False\n",
      "continue: None\n",
      "using: time\n",
      "date: None\n",
      "input: all\n",
      "model: FCNN_v1.cfg\n",
      "############################################\n",
      " \n",
      "/data/user/jkager/NN_Reco/training_data_20x10x60/training_data/all []\n",
      "Traceback (most recent call last):\n",
      "  File \"../updownclassification_3/updown_network.py\", line 194, in <module>\n",
      "    read_files(input_files, data_location, printfilesizes=True)\n",
      "  File \"/mnt/lfs3/user/jkager/NN_Reco/johannes/updownclassification_3/jkutils.py\", line 93, in read_files\n",
      "    data_len = len(h5py.File(data_file,'r')[using])\n",
      "  File \"h5py/_objects.pyx\", line 54, in h5py._objects.with_phil.wrapper (/tmp/pip-rdtLFq-build/h5py/_objects.c:2840)\n",
      "  File \"h5py/_objects.pyx\", line 55, in h5py._objects.with_phil.wrapper (/tmp/pip-rdtLFq-build/h5py/_objects.c:2798)\n",
      "  File \"/home/jkager/.local/lib/python2.7/site-packages/h5py/_hl/group.py\", line 169, in __getitem__\n",
      "    oid = h5o.open(self.id, self._e(name), lapl=self._lapl)\n",
      "  File \"h5py/_objects.pyx\", line 54, in h5py._objects.with_phil.wrapper (/tmp/pip-rdtLFq-build/h5py/_objects.c:2840)\n",
      "  File \"h5py/_objects.pyx\", line 55, in h5py._objects.with_phil.wrapper (/tmp/pip-rdtLFq-build/h5py/_objects.c:2798)\n",
      "  File \"h5py/h5o.pyx\", line 190, in h5py.h5o.open (/tmp/pip-rdtLFq-build/h5py/h5o.c:3734)\n",
      "KeyError: \"Unable to open object (Object 'time' doesn't exist)\"\n",
      "\n"
     ]
    }
   ],
   "source": [
    "process = subprocess.Popen(['../updownclassification_3/updown_network.py', '--filesizes'],\n",
    "                           stdout=subprocess.PIPE,\n",
    "                           stderr=subprocess.STDOUT)\n",
    "returncode = process.wait()\n",
    "print('script returned {0}'.format(returncode))\n",
    "print(process.stdout.read())"
   ]
  },
  {
   "cell_type": "code",
   "execution_count": 46,
   "metadata": {
    "collapsed": false
   },
   "outputs": [
    {
     "data": {
      "text/plain": [
       "1"
      ]
     },
     "execution_count": 46,
     "metadata": {},
     "output_type": "execute_result"
    }
   ],
   "source": [
    "p.returncode"
   ]
  },
  {
   "cell_type": "code",
   "execution_count": 47,
   "metadata": {
    "collapsed": true
   },
   "outputs": [],
   "source": [
    "p.stdout"
   ]
  },
  {
   "cell_type": "code",
   "execution_count": null,
   "metadata": {
    "collapsed": true
   },
   "outputs": [],
   "source": []
  }
 ],
 "metadata": {
  "kernelspec": {
   "display_name": "Python 2",
   "language": "python",
   "name": "python2"
  },
  "language_info": {
   "codemirror_mode": {
    "name": "ipython",
    "version": 2
   },
   "file_extension": ".py",
   "mimetype": "text/x-python",
   "name": "python",
   "nbconvert_exporter": "python",
   "pygments_lexer": "ipython2",
   "version": "2.7.10"
  }
 },
 "nbformat": 4,
 "nbformat_minor": 0
}
