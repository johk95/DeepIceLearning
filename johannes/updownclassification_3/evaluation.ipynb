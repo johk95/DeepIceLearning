{
 "cells": [
  {
   "cell_type": "markdown",
   "metadata": {},
   "source": [
    "# see what angles get reconstructed well"
   ]
  },
  {
   "cell_type": "code",
   "execution_count": 1,
   "metadata": {
    "collapsed": false,
    "scrolled": false
   },
   "outputs": [
    {
     "name": "stderr",
     "output_type": "stream",
     "text": [
      "Using Theano backend.\n",
      "/home/jkager/.local/lib/python2.7/site-packages/pandas/core/computation/__init__.py:18: UserWarning: The installed version of numexpr 2.4.3 is not supported in pandas and will be not be used\n",
      "The minimum supported version is 2.4.6\n",
      "\n",
      "  ver=ver, min_ver=_MIN_NUMEXPR_VERSION), UserWarning)\n"
     ]
    }
   ],
   "source": [
    "import jkutils\n",
    "import os, sys\n",
    "import numpy as np\n",
    "import scipy.stats as stats\n",
    "from keras.models import load_model\n",
    "import math\n",
    "import shelve\n",
    "import itertools\n",
    "import seaborn as sns\n",
    "import matplotlib.pyplot as plt\n",
    "% matplotlib notebook"
   ]
  },
  {
   "cell_type": "code",
   "execution_count": 62,
   "metadata": {
    "collapsed": false
   },
   "outputs": [
    {
     "data": {
      "text/plain": [
       "<module 'jkutils' from 'jkutils.py'>"
      ]
     },
     "execution_count": 62,
     "metadata": {},
     "output_type": "execute_result"
    }
   ],
   "source": [
    "reload(jkutils)"
   ]
  },
  {
   "cell_type": "markdown",
   "metadata": {},
   "source": [
    "# analyze test_results"
   ]
  },
  {
   "cell_type": "code",
   "execution_count": 41,
   "metadata": {
    "collapsed": true
   },
   "outputs": [],
   "source": [
    "#charge\n",
    "today = '2017-08-24'\n",
    "project_name = 'charge_h012_v1'"
   ]
  },
  {
   "cell_type": "code",
   "execution_count": 42,
   "metadata": {
    "collapsed": true
   },
   "outputs": [],
   "source": [
    "#time\n",
    "today = '2017-08-24'\n",
    "project_name = 'time_h012_v1'"
   ]
  },
  {
   "cell_type": "code",
   "execution_count": 2,
   "metadata": {
    "collapsed": true
   },
   "outputs": [],
   "source": [
    "#time\n",
    "today = '2017-09-07'\n",
    "project_name = 'time_high_v2_lb'"
   ]
  },
  {
   "cell_type": "code",
   "execution_count": 3,
   "metadata": {
    "collapsed": false,
    "scrolled": true
   },
   "outputs": [
    {
     "name": "stdout",
     "output_type": "stream",
     "text": [
      "looking for train_hist/2017-09-07/time_high_v2_lb\n",
      "found\n"
     ]
    }
   ],
   "source": [
    "file_location = '/data/user/jkager/NN_Reco/johannes/updownclassification_3/'\n",
    "data_location = '/data/user/jkager/NN_Reco/training_data_20x10x60/'\n",
    "test_results = 'test_results.npy'\n",
    "\n",
    "project_folder = 'train_hist/{}/{}'.format(today, project_name)\n",
    "print \"looking for\", project_folder\n",
    "if not os.path.exists(os.path.join(file_location,project_folder)):\n",
    "    print \"project not found. exiting...\"\n",
    "    sys.exit(-1)\n",
    "elif not os.path.exists(os.path.join(file_location, project_folder, test_results)):\n",
    "    print \"test results not found. exiting...\"\n",
    "    sys.exit(-1)\n",
    "print \"found\"\n",
    "shelf = shelve.open(os.path.join(file_location, project_folder, 'run_info.shlf'))\n",
    "input_files = shelf['Files'].split(':')\n",
    "if len(input_files) == 1: #this could be something like ['h01'] (inputformat)\n",
    "    #try to decode fileinput format\n",
    "    input_files = jkutils.get_filenames(input_files[0])\n",
    "    for f in input_files:\n",
    "        if not os.path.isfile(os.path.join(data_location, 'training_data/{}'.format(f))):\n",
    "            print \"file not found:\", f\n",
    "            print \"exiting script.\"\n",
    "            sys.exit(1)\n",
    "train_inds = shelf['Train_Inds'] \n",
    "valid_inds = shelf['Valid_Inds']\n",
    "test_inds = shelf['Test_Inds']\n",
    "test_results = np.load(os.path.join(file_location, project_folder, test_results))\n",
    "input_data, out_data, file_len = jkutils.read_files(input_files, data_location, using=shelf['using'])\n",
    "res, test_out, zenith_out = test_results[0,:], test_results[1,:], test_results[2,:] #network output (0 or 1), \n",
    "                                                                                    #desired output (0 or 1),\n",
    "                                                                                    #zenith (0 to pi)"
   ]
  },
  {
   "cell_type": "markdown",
   "metadata": {},
   "source": [
    "res is the output value of the network. test_out is the expected value (0 or 1, up or down depending on the real zenith value). zenith_out is the real zenith value"
   ]
  },
  {
   "cell_type": "code",
   "execution_count": 4,
   "metadata": {
    "collapsed": false,
    "scrolled": true
   },
   "outputs": [
    {
     "name": "stdout",
     "output_type": "stream",
     "text": [
      "29 31 0.0\n",
      "84 84 1.0\n",
      "125 138 2.0\n",
      "198 215 3.0\n",
      "265 286 4.0\n",
      "267 284 5.0\n",
      "361 380 6.0\n",
      "395 417 7.0\n",
      "459 493 8.0\n",
      "456 480 9.0\n",
      "502 548 10.0\n",
      "517 548 11.0\n",
      "556 588 12.0\n",
      "541 598 13.0\n",
      "618 657 14.0\n",
      "644 674 15.0\n",
      "613 668 16.0\n",
      "644 708 17.0\n",
      "761 819 18.0\n",
      "641 708 19.0\n",
      "743 791 20.0\n",
      "779 818 21.0\n",
      "807 884 22.0\n",
      "820 860 23.0\n",
      "827 922 24.0\n",
      "835 910 25.0\n",
      "869 942 26.0\n",
      "870 944 27.0\n",
      "816 881 28.0\n",
      "883 966 29.0\n",
      "878 971 30.0\n",
      "909 995 31.0\n",
      "950 1053 32.0\n",
      "947 1023 33.0\n",
      "971 1047 34.0\n",
      "912 996 35.0\n",
      "975 1064 36.0\n",
      "1026 1088 37.0\n",
      "1001 1081 38.0\n",
      "1103 1191 39.0\n",
      "989 1063 40.0\n",
      "1038 1104 41.0\n",
      "1077 1150 42.0\n",
      "1155 1216 43.0\n",
      "1098 1183 44.0\n",
      "1156 1244 45.0\n",
      "1217 1310 46.0\n",
      "1157 1216 47.0\n",
      "1165 1245 48.0\n",
      "1170 1244 49.0\n",
      "1218 1277 50.0\n",
      "1308 1357 51.0\n",
      "1237 1287 52.0\n",
      "1347 1401 53.0\n",
      "1231 1302 54.0\n",
      "1379 1420 55.0\n",
      "1442 1477 56.0\n",
      "1466 1504 57.0\n",
      "1468 1515 58.0\n",
      "1563 1626 59.0\n",
      "1546 1581 60.0\n",
      "1566 1622 61.0\n",
      "1621 1659 62.0\n",
      "1661 1695 63.0\n",
      "1653 1687 64.0\n",
      "1725 1753 65.0\n",
      "1777 1801 66.0\n",
      "1798 1822 67.0\n",
      "1755 1791 68.0\n",
      "1860 1873 69.0\n",
      "1898 1919 70.0\n",
      "1948 1969 71.0\n",
      "2024 2044 72.0\n",
      "2098 2116 73.0\n",
      "2128 2150 74.0\n",
      "2067 2085 75.0\n",
      "2063 2082 76.0\n",
      "2157 2169 77.0\n",
      "2113 2128 78.0\n",
      "2208 2234 79.0\n",
      "2189 2219 80.0\n",
      "2292 2319 81.0\n",
      "2283 2343 82.0\n",
      "2427 2512 83.0\n",
      "2544 2671 84.0\n",
      "2539 2775 85.0\n",
      "2286 2638 86.0\n",
      "2018 2466 87.0\n",
      "1795 2539 88.0\n",
      "1539 2573 89.0\n",
      "1314 2481 90.0\n",
      "1762 2587 91.0\n",
      "1949 2505 92.0\n",
      "2123 2539 93.0\n",
      "2185 2493 94.0\n",
      "2108 2345 95.0\n",
      "2265 2452 96.0\n",
      "2251 2422 97.0\n",
      "2295 2437 98.0\n",
      "2342 2478 99.0\n",
      "2197 2330 100.0\n",
      "2306 2416 101.0\n",
      "2265 2392 102.0\n",
      "2281 2392 103.0\n",
      "2256 2364 104.0\n",
      "2328 2406 105.0\n",
      "2200 2272 106.0\n",
      "2326 2411 107.0\n",
      "2268 2350 108.0\n",
      "2226 2299 109.0\n",
      "2155 2225 110.0\n",
      "2175 2241 111.0\n",
      "2266 2333 112.0\n",
      "2161 2218 113.0\n",
      "2218 2267 114.0\n",
      "2102 2151 115.0\n",
      "2104 2146 116.0\n",
      "2142 2199 117.0\n",
      "2082 2127 118.0\n",
      "1971 2021 119.0\n",
      "2105 2160 120.0\n",
      "2038 2085 121.0\n",
      "1922 1958 122.0\n",
      "1904 1940 123.0\n",
      "1892 1944 124.0\n",
      "1964 2008 125.0\n",
      "1893 1926 126.0\n",
      "1751 1800 127.0\n",
      "1823 1865 128.0\n",
      "1844 1877 129.0\n",
      "1814 1847 130.0\n",
      "1705 1733 131.0\n",
      "1696 1725 132.0\n",
      "1644 1680 133.0\n",
      "1712 1745 134.0\n",
      "1592 1622 135.0\n",
      "1577 1613 136.0\n",
      "1570 1599 137.0\n",
      "1572 1592 138.0\n",
      "1478 1507 139.0\n",
      "1449 1475 140.0\n",
      "1489 1514 141.0\n",
      "1456 1489 142.0\n",
      "1380 1415 143.0\n",
      "1374 1401 144.0\n",
      "1312 1337 145.0\n",
      "1373 1401 146.0\n",
      "1314 1340 147.0\n",
      "1223 1249 148.0\n",
      "1191 1209 149.0\n",
      "1272 1290 150.0\n",
      "1147 1163 151.0\n",
      "1126 1144 152.0\n",
      "1021 1046 153.0\n",
      "1055 1068 154.0\n",
      "964 983 155.0\n",
      "1011 1026 156.0\n",
      "953 967 157.0\n",
      "903 919 158.0\n",
      "900 914 159.0\n",
      "873 888 160.0\n",
      "832 842 161.0\n",
      "800 814 162.0\n",
      "723 732 163.0\n",
      "655 662 164.0\n",
      "646 655 165.0\n",
      "605 616 166.0\n",
      "555 561 167.0\n",
      "529 541 168.0\n",
      "530 541 169.0\n",
      "436 442 170.0\n",
      "421 427 171.0\n",
      "376 380 172.0\n",
      "323 329 173.0\n",
      "259 267 174.0\n",
      "205 208 175.0\n",
      "189 195 176.0\n",
      "120 122 177.0\n",
      "70 70 178.0\n",
      "29 29 179.0\n",
      "0.945575887552\n"
     ]
    }
   ],
   "source": [
    "bins = 10*18+1\n",
    "x_hist = np.linspace(0,math.pi,bins)\n",
    "y_hist = np.zeros((bins-1))\n",
    "cor, summe = 0, 0\n",
    "for i in range(len(x_hist)-1):\n",
    "    indizes = np.bitwise_and(zenith_out >= x_hist[i], zenith_out < x_hist[i+1])\n",
    "    correct = np.sum(np.round(res[indizes]) == jkutils.zenith_to_binary(zenith_out[indizes]))\n",
    "    print correct, np.sum(indizes), x_hist[i] * 180/math.pi\n",
    "    cor += correct\n",
    "    summe += np.sum(indizes)\n",
    "    y_hist[i] = float(correct)/np.sum(indizes)\n",
    "print cor / float(summe)"
   ]
  },
  {
   "cell_type": "code",
   "execution_count": 5,
   "metadata": {
    "collapsed": false,
    "scrolled": false
   },
   "outputs": [
    {
     "name": "stdout",
     "output_type": "stream",
     "text": [
      "94.56%\n"
     ]
    },
    {
     "data": {
      "application/javascript": [
       "/* Put everything inside the global mpl namespace */\n",
       "window.mpl = {};\n",
       "\n",
       "mpl.get_websocket_type = function() {\n",
       "    if (typeof(WebSocket) !== 'undefined') {\n",
       "        return WebSocket;\n",
       "    } else if (typeof(MozWebSocket) !== 'undefined') {\n",
       "        return MozWebSocket;\n",
       "    } else {\n",
       "        alert('Your browser does not have WebSocket support.' +\n",
       "              'Please try Chrome, Safari or Firefox ≥ 6. ' +\n",
       "              'Firefox 4 and 5 are also supported but you ' +\n",
       "              'have to enable WebSockets in about:config.');\n",
       "    };\n",
       "}\n",
       "\n",
       "mpl.figure = function(figure_id, websocket, ondownload, parent_element) {\n",
       "    this.id = figure_id;\n",
       "\n",
       "    this.ws = websocket;\n",
       "\n",
       "    this.supports_binary = (this.ws.binaryType != undefined);\n",
       "\n",
       "    if (!this.supports_binary) {\n",
       "        var warnings = document.getElementById(\"mpl-warnings\");\n",
       "        if (warnings) {\n",
       "            warnings.style.display = 'block';\n",
       "            warnings.textContent = (\n",
       "                \"This browser does not support binary websocket messages. \" +\n",
       "                    \"Performance may be slow.\");\n",
       "        }\n",
       "    }\n",
       "\n",
       "    this.imageObj = new Image();\n",
       "\n",
       "    this.context = undefined;\n",
       "    this.message = undefined;\n",
       "    this.canvas = undefined;\n",
       "    this.rubberband_canvas = undefined;\n",
       "    this.rubberband_context = undefined;\n",
       "    this.format_dropdown = undefined;\n",
       "\n",
       "    this.image_mode = 'full';\n",
       "\n",
       "    this.root = $('<div/>');\n",
       "    this._root_extra_style(this.root)\n",
       "    this.root.attr('style', 'display: inline-block');\n",
       "\n",
       "    $(parent_element).append(this.root);\n",
       "\n",
       "    this._init_header(this);\n",
       "    this._init_canvas(this);\n",
       "    this._init_toolbar(this);\n",
       "\n",
       "    var fig = this;\n",
       "\n",
       "    this.waiting = false;\n",
       "\n",
       "    this.ws.onopen =  function () {\n",
       "            fig.send_message(\"supports_binary\", {value: fig.supports_binary});\n",
       "            fig.send_message(\"send_image_mode\", {});\n",
       "            fig.send_message(\"refresh\", {});\n",
       "        }\n",
       "\n",
       "    this.imageObj.onload = function() {\n",
       "            if (fig.image_mode == 'full') {\n",
       "                // Full images could contain transparency (where diff images\n",
       "                // almost always do), so we need to clear the canvas so that\n",
       "                // there is no ghosting.\n",
       "                fig.context.clearRect(0, 0, fig.canvas.width, fig.canvas.height);\n",
       "            }\n",
       "            fig.context.drawImage(fig.imageObj, 0, 0);\n",
       "            fig.waiting = false;\n",
       "        };\n",
       "\n",
       "    this.imageObj.onunload = function() {\n",
       "        this.ws.close();\n",
       "    }\n",
       "\n",
       "    this.ws.onmessage = this._make_on_message_function(this);\n",
       "\n",
       "    this.ondownload = ondownload;\n",
       "}\n",
       "\n",
       "mpl.figure.prototype._init_header = function() {\n",
       "    var titlebar = $(\n",
       "        '<div class=\"ui-dialog-titlebar ui-widget-header ui-corner-all ' +\n",
       "        'ui-helper-clearfix\"/>');\n",
       "    var titletext = $(\n",
       "        '<div class=\"ui-dialog-title\" style=\"width: 100%; ' +\n",
       "        'text-align: center; padding: 3px;\"/>');\n",
       "    titlebar.append(titletext)\n",
       "    this.root.append(titlebar);\n",
       "    this.header = titletext[0];\n",
       "}\n",
       "\n",
       "\n",
       "\n",
       "mpl.figure.prototype._canvas_extra_style = function(canvas_div) {\n",
       "\n",
       "}\n",
       "\n",
       "\n",
       "mpl.figure.prototype._root_extra_style = function(canvas_div) {\n",
       "\n",
       "}\n",
       "\n",
       "mpl.figure.prototype._init_canvas = function() {\n",
       "    var fig = this;\n",
       "\n",
       "    var canvas_div = $('<div/>');\n",
       "\n",
       "    canvas_div.attr('style', 'position: relative; clear: both; outline: 0');\n",
       "\n",
       "    function canvas_keyboard_event(event) {\n",
       "        return fig.key_event(event, event['data']);\n",
       "    }\n",
       "\n",
       "    canvas_div.keydown('key_press', canvas_keyboard_event);\n",
       "    canvas_div.keyup('key_release', canvas_keyboard_event);\n",
       "    this.canvas_div = canvas_div\n",
       "    this._canvas_extra_style(canvas_div)\n",
       "    this.root.append(canvas_div);\n",
       "\n",
       "    var canvas = $('<canvas/>');\n",
       "    canvas.addClass('mpl-canvas');\n",
       "    canvas.attr('style', \"left: 0; top: 0; z-index: 0; outline: 0\")\n",
       "\n",
       "    this.canvas = canvas[0];\n",
       "    this.context = canvas[0].getContext(\"2d\");\n",
       "\n",
       "    var rubberband = $('<canvas/>');\n",
       "    rubberband.attr('style', \"position: absolute; left: 0; top: 0; z-index: 1;\")\n",
       "\n",
       "    var pass_mouse_events = true;\n",
       "\n",
       "    canvas_div.resizable({\n",
       "        start: function(event, ui) {\n",
       "            pass_mouse_events = false;\n",
       "        },\n",
       "        resize: function(event, ui) {\n",
       "            fig.request_resize(ui.size.width, ui.size.height);\n",
       "        },\n",
       "        stop: function(event, ui) {\n",
       "            pass_mouse_events = true;\n",
       "            fig.request_resize(ui.size.width, ui.size.height);\n",
       "        },\n",
       "    });\n",
       "\n",
       "    function mouse_event_fn(event) {\n",
       "        if (pass_mouse_events)\n",
       "            return fig.mouse_event(event, event['data']);\n",
       "    }\n",
       "\n",
       "    rubberband.mousedown('button_press', mouse_event_fn);\n",
       "    rubberband.mouseup('button_release', mouse_event_fn);\n",
       "    // Throttle sequential mouse events to 1 every 20ms.\n",
       "    rubberband.mousemove('motion_notify', mouse_event_fn);\n",
       "\n",
       "    rubberband.mouseenter('figure_enter', mouse_event_fn);\n",
       "    rubberband.mouseleave('figure_leave', mouse_event_fn);\n",
       "\n",
       "    canvas_div.on(\"wheel\", function (event) {\n",
       "        event = event.originalEvent;\n",
       "        event['data'] = 'scroll'\n",
       "        if (event.deltaY < 0) {\n",
       "            event.step = 1;\n",
       "        } else {\n",
       "            event.step = -1;\n",
       "        }\n",
       "        mouse_event_fn(event);\n",
       "    });\n",
       "\n",
       "    canvas_div.append(canvas);\n",
       "    canvas_div.append(rubberband);\n",
       "\n",
       "    this.rubberband = rubberband;\n",
       "    this.rubberband_canvas = rubberband[0];\n",
       "    this.rubberband_context = rubberband[0].getContext(\"2d\");\n",
       "    this.rubberband_context.strokeStyle = \"#000000\";\n",
       "\n",
       "    this._resize_canvas = function(width, height) {\n",
       "        // Keep the size of the canvas, canvas container, and rubber band\n",
       "        // canvas in synch.\n",
       "        canvas_div.css('width', width)\n",
       "        canvas_div.css('height', height)\n",
       "\n",
       "        canvas.attr('width', width);\n",
       "        canvas.attr('height', height);\n",
       "\n",
       "        rubberband.attr('width', width);\n",
       "        rubberband.attr('height', height);\n",
       "    }\n",
       "\n",
       "    // Set the figure to an initial 600x600px, this will subsequently be updated\n",
       "    // upon first draw.\n",
       "    this._resize_canvas(600, 600);\n",
       "\n",
       "    // Disable right mouse context menu.\n",
       "    $(this.rubberband_canvas).bind(\"contextmenu\",function(e){\n",
       "        return false;\n",
       "    });\n",
       "\n",
       "    function set_focus () {\n",
       "        canvas.focus();\n",
       "        canvas_div.focus();\n",
       "    }\n",
       "\n",
       "    window.setTimeout(set_focus, 100);\n",
       "}\n",
       "\n",
       "mpl.figure.prototype._init_toolbar = function() {\n",
       "    var fig = this;\n",
       "\n",
       "    var nav_element = $('<div/>')\n",
       "    nav_element.attr('style', 'width: 100%');\n",
       "    this.root.append(nav_element);\n",
       "\n",
       "    // Define a callback function for later on.\n",
       "    function toolbar_event(event) {\n",
       "        return fig.toolbar_button_onclick(event['data']);\n",
       "    }\n",
       "    function toolbar_mouse_event(event) {\n",
       "        return fig.toolbar_button_onmouseover(event['data']);\n",
       "    }\n",
       "\n",
       "    for(var toolbar_ind in mpl.toolbar_items) {\n",
       "        var name = mpl.toolbar_items[toolbar_ind][0];\n",
       "        var tooltip = mpl.toolbar_items[toolbar_ind][1];\n",
       "        var image = mpl.toolbar_items[toolbar_ind][2];\n",
       "        var method_name = mpl.toolbar_items[toolbar_ind][3];\n",
       "\n",
       "        if (!name) {\n",
       "            // put a spacer in here.\n",
       "            continue;\n",
       "        }\n",
       "        var button = $('<button/>');\n",
       "        button.addClass('ui-button ui-widget ui-state-default ui-corner-all ' +\n",
       "                        'ui-button-icon-only');\n",
       "        button.attr('role', 'button');\n",
       "        button.attr('aria-disabled', 'false');\n",
       "        button.click(method_name, toolbar_event);\n",
       "        button.mouseover(tooltip, toolbar_mouse_event);\n",
       "\n",
       "        var icon_img = $('<span/>');\n",
       "        icon_img.addClass('ui-button-icon-primary ui-icon');\n",
       "        icon_img.addClass(image);\n",
       "        icon_img.addClass('ui-corner-all');\n",
       "\n",
       "        var tooltip_span = $('<span/>');\n",
       "        tooltip_span.addClass('ui-button-text');\n",
       "        tooltip_span.html(tooltip);\n",
       "\n",
       "        button.append(icon_img);\n",
       "        button.append(tooltip_span);\n",
       "\n",
       "        nav_element.append(button);\n",
       "    }\n",
       "\n",
       "    var fmt_picker_span = $('<span/>');\n",
       "\n",
       "    var fmt_picker = $('<select/>');\n",
       "    fmt_picker.addClass('mpl-toolbar-option ui-widget ui-widget-content');\n",
       "    fmt_picker_span.append(fmt_picker);\n",
       "    nav_element.append(fmt_picker_span);\n",
       "    this.format_dropdown = fmt_picker[0];\n",
       "\n",
       "    for (var ind in mpl.extensions) {\n",
       "        var fmt = mpl.extensions[ind];\n",
       "        var option = $(\n",
       "            '<option/>', {selected: fmt === mpl.default_extension}).html(fmt);\n",
       "        fmt_picker.append(option)\n",
       "    }\n",
       "\n",
       "    // Add hover states to the ui-buttons\n",
       "    $( \".ui-button\" ).hover(\n",
       "        function() { $(this).addClass(\"ui-state-hover\");},\n",
       "        function() { $(this).removeClass(\"ui-state-hover\");}\n",
       "    );\n",
       "\n",
       "    var status_bar = $('<span class=\"mpl-message\"/>');\n",
       "    nav_element.append(status_bar);\n",
       "    this.message = status_bar[0];\n",
       "}\n",
       "\n",
       "mpl.figure.prototype.request_resize = function(x_pixels, y_pixels) {\n",
       "    // Request matplotlib to resize the figure. Matplotlib will then trigger a resize in the client,\n",
       "    // which will in turn request a refresh of the image.\n",
       "    this.send_message('resize', {'width': x_pixels, 'height': y_pixels});\n",
       "}\n",
       "\n",
       "mpl.figure.prototype.send_message = function(type, properties) {\n",
       "    properties['type'] = type;\n",
       "    properties['figure_id'] = this.id;\n",
       "    this.ws.send(JSON.stringify(properties));\n",
       "}\n",
       "\n",
       "mpl.figure.prototype.send_draw_message = function() {\n",
       "    if (!this.waiting) {\n",
       "        this.waiting = true;\n",
       "        this.ws.send(JSON.stringify({type: \"draw\", figure_id: this.id}));\n",
       "    }\n",
       "}\n",
       "\n",
       "\n",
       "mpl.figure.prototype.handle_save = function(fig, msg) {\n",
       "    var format_dropdown = fig.format_dropdown;\n",
       "    var format = format_dropdown.options[format_dropdown.selectedIndex].value;\n",
       "    fig.ondownload(fig, format);\n",
       "}\n",
       "\n",
       "\n",
       "mpl.figure.prototype.handle_resize = function(fig, msg) {\n",
       "    var size = msg['size'];\n",
       "    if (size[0] != fig.canvas.width || size[1] != fig.canvas.height) {\n",
       "        fig._resize_canvas(size[0], size[1]);\n",
       "        fig.send_message(\"refresh\", {});\n",
       "    };\n",
       "}\n",
       "\n",
       "mpl.figure.prototype.handle_rubberband = function(fig, msg) {\n",
       "    var x0 = msg['x0'];\n",
       "    var y0 = fig.canvas.height - msg['y0'];\n",
       "    var x1 = msg['x1'];\n",
       "    var y1 = fig.canvas.height - msg['y1'];\n",
       "    x0 = Math.floor(x0) + 0.5;\n",
       "    y0 = Math.floor(y0) + 0.5;\n",
       "    x1 = Math.floor(x1) + 0.5;\n",
       "    y1 = Math.floor(y1) + 0.5;\n",
       "    var min_x = Math.min(x0, x1);\n",
       "    var min_y = Math.min(y0, y1);\n",
       "    var width = Math.abs(x1 - x0);\n",
       "    var height = Math.abs(y1 - y0);\n",
       "\n",
       "    fig.rubberband_context.clearRect(\n",
       "        0, 0, fig.canvas.width, fig.canvas.height);\n",
       "\n",
       "    fig.rubberband_context.strokeRect(min_x, min_y, width, height);\n",
       "}\n",
       "\n",
       "mpl.figure.prototype.handle_figure_label = function(fig, msg) {\n",
       "    // Updates the figure title.\n",
       "    fig.header.textContent = msg['label'];\n",
       "}\n",
       "\n",
       "mpl.figure.prototype.handle_cursor = function(fig, msg) {\n",
       "    var cursor = msg['cursor'];\n",
       "    switch(cursor)\n",
       "    {\n",
       "    case 0:\n",
       "        cursor = 'pointer';\n",
       "        break;\n",
       "    case 1:\n",
       "        cursor = 'default';\n",
       "        break;\n",
       "    case 2:\n",
       "        cursor = 'crosshair';\n",
       "        break;\n",
       "    case 3:\n",
       "        cursor = 'move';\n",
       "        break;\n",
       "    }\n",
       "    fig.rubberband_canvas.style.cursor = cursor;\n",
       "}\n",
       "\n",
       "mpl.figure.prototype.handle_message = function(fig, msg) {\n",
       "    fig.message.textContent = msg['message'];\n",
       "}\n",
       "\n",
       "mpl.figure.prototype.handle_draw = function(fig, msg) {\n",
       "    // Request the server to send over a new figure.\n",
       "    fig.send_draw_message();\n",
       "}\n",
       "\n",
       "mpl.figure.prototype.handle_image_mode = function(fig, msg) {\n",
       "    fig.image_mode = msg['mode'];\n",
       "}\n",
       "\n",
       "mpl.figure.prototype.updated_canvas_event = function() {\n",
       "    // Called whenever the canvas gets updated.\n",
       "    this.send_message(\"ack\", {});\n",
       "}\n",
       "\n",
       "// A function to construct a web socket function for onmessage handling.\n",
       "// Called in the figure constructor.\n",
       "mpl.figure.prototype._make_on_message_function = function(fig) {\n",
       "    return function socket_on_message(evt) {\n",
       "        if (evt.data instanceof Blob) {\n",
       "            /* FIXME: We get \"Resource interpreted as Image but\n",
       "             * transferred with MIME type text/plain:\" errors on\n",
       "             * Chrome.  But how to set the MIME type?  It doesn't seem\n",
       "             * to be part of the websocket stream */\n",
       "            evt.data.type = \"image/png\";\n",
       "\n",
       "            /* Free the memory for the previous frames */\n",
       "            if (fig.imageObj.src) {\n",
       "                (window.URL || window.webkitURL).revokeObjectURL(\n",
       "                    fig.imageObj.src);\n",
       "            }\n",
       "\n",
       "            fig.imageObj.src = (window.URL || window.webkitURL).createObjectURL(\n",
       "                evt.data);\n",
       "            fig.updated_canvas_event();\n",
       "            return;\n",
       "        }\n",
       "        else if (typeof evt.data === 'string' && evt.data.slice(0, 21) == \"data:image/png;base64\") {\n",
       "            fig.imageObj.src = evt.data;\n",
       "            fig.updated_canvas_event();\n",
       "            return;\n",
       "        }\n",
       "\n",
       "        var msg = JSON.parse(evt.data);\n",
       "        var msg_type = msg['type'];\n",
       "\n",
       "        // Call the  \"handle_{type}\" callback, which takes\n",
       "        // the figure and JSON message as its only arguments.\n",
       "        try {\n",
       "            var callback = fig[\"handle_\" + msg_type];\n",
       "        } catch (e) {\n",
       "            console.log(\"No handler for the '\" + msg_type + \"' message type: \", msg);\n",
       "            return;\n",
       "        }\n",
       "\n",
       "        if (callback) {\n",
       "            try {\n",
       "                // console.log(\"Handling '\" + msg_type + \"' message: \", msg);\n",
       "                callback(fig, msg);\n",
       "            } catch (e) {\n",
       "                console.log(\"Exception inside the 'handler_\" + msg_type + \"' callback:\", e, e.stack, msg);\n",
       "            }\n",
       "        }\n",
       "    };\n",
       "}\n",
       "\n",
       "// from http://stackoverflow.com/questions/1114465/getting-mouse-location-in-canvas\n",
       "mpl.findpos = function(e) {\n",
       "    //this section is from http://www.quirksmode.org/js/events_properties.html\n",
       "    var targ;\n",
       "    if (!e)\n",
       "        e = window.event;\n",
       "    if (e.target)\n",
       "        targ = e.target;\n",
       "    else if (e.srcElement)\n",
       "        targ = e.srcElement;\n",
       "    if (targ.nodeType == 3) // defeat Safari bug\n",
       "        targ = targ.parentNode;\n",
       "\n",
       "    // jQuery normalizes the pageX and pageY\n",
       "    // pageX,Y are the mouse positions relative to the document\n",
       "    // offset() returns the position of the element relative to the document\n",
       "    var x = e.pageX - $(targ).offset().left;\n",
       "    var y = e.pageY - $(targ).offset().top;\n",
       "\n",
       "    return {\"x\": x, \"y\": y};\n",
       "};\n",
       "\n",
       "mpl.figure.prototype.mouse_event = function(event, name) {\n",
       "    var canvas_pos = mpl.findpos(event)\n",
       "\n",
       "    if (name === 'button_press')\n",
       "    {\n",
       "        this.canvas.focus();\n",
       "        this.canvas_div.focus();\n",
       "    }\n",
       "\n",
       "    var x = canvas_pos.x;\n",
       "    var y = canvas_pos.y;\n",
       "\n",
       "    this.send_message(name, {x: x, y: y, button: event.button,\n",
       "                             step: event.step});\n",
       "\n",
       "    /* This prevents the web browser from automatically changing to\n",
       "     * the text insertion cursor when the button is pressed.  We want\n",
       "     * to control all of the cursor setting manually through the\n",
       "     * 'cursor' event from matplotlib */\n",
       "    event.preventDefault();\n",
       "    return false;\n",
       "}\n",
       "\n",
       "mpl.figure.prototype._key_event_extra = function(event, name) {\n",
       "    // Handle any extra behaviour associated with a key event\n",
       "}\n",
       "\n",
       "mpl.figure.prototype.key_event = function(event, name) {\n",
       "\n",
       "    // Prevent repeat events\n",
       "    if (name == 'key_press')\n",
       "    {\n",
       "        if (event.which === this._key)\n",
       "            return;\n",
       "        else\n",
       "            this._key = event.which;\n",
       "    }\n",
       "    if (name == 'key_release')\n",
       "        this._key = null;\n",
       "\n",
       "    var value = '';\n",
       "    if (event.ctrlKey && event.which != 17)\n",
       "        value += \"ctrl+\";\n",
       "    if (event.altKey && event.which != 18)\n",
       "        value += \"alt+\";\n",
       "    if (event.shiftKey && event.which != 16)\n",
       "        value += \"shift+\";\n",
       "\n",
       "    value += 'k';\n",
       "    value += event.which.toString();\n",
       "\n",
       "    this._key_event_extra(event, name);\n",
       "\n",
       "    this.send_message(name, {key: value});\n",
       "    return false;\n",
       "}\n",
       "\n",
       "mpl.figure.prototype.toolbar_button_onclick = function(name) {\n",
       "    if (name == 'download') {\n",
       "        this.handle_save(this, null);\n",
       "    } else {\n",
       "        this.send_message(\"toolbar_button\", {name: name});\n",
       "    }\n",
       "};\n",
       "\n",
       "mpl.figure.prototype.toolbar_button_onmouseover = function(tooltip) {\n",
       "    this.message.textContent = tooltip;\n",
       "};\n",
       "mpl.toolbar_items = [[\"Home\", \"Reset original view\", \"fa fa-home icon-home\", \"home\"], [\"Back\", \"Back to  previous view\", \"fa fa-arrow-left icon-arrow-left\", \"back\"], [\"Forward\", \"Forward to next view\", \"fa fa-arrow-right icon-arrow-right\", \"forward\"], [\"\", \"\", \"\", \"\"], [\"Pan\", \"Pan axes with left mouse, zoom with right\", \"fa fa-arrows icon-move\", \"pan\"], [\"Zoom\", \"Zoom to rectangle\", \"fa fa-square-o icon-check-empty\", \"zoom\"], [\"\", \"\", \"\", \"\"], [\"Download\", \"Download plot\", \"fa fa-floppy-o icon-save\", \"download\"]];\n",
       "\n",
       "mpl.extensions = [\"eps\", \"pdf\", \"png\", \"ps\", \"raw\", \"svg\"];\n",
       "\n",
       "mpl.default_extension = \"png\";var comm_websocket_adapter = function(comm) {\n",
       "    // Create a \"websocket\"-like object which calls the given IPython comm\n",
       "    // object with the appropriate methods. Currently this is a non binary\n",
       "    // socket, so there is still some room for performance tuning.\n",
       "    var ws = {};\n",
       "\n",
       "    ws.close = function() {\n",
       "        comm.close()\n",
       "    };\n",
       "    ws.send = function(m) {\n",
       "        //console.log('sending', m);\n",
       "        comm.send(m);\n",
       "    };\n",
       "    // Register the callback with on_msg.\n",
       "    comm.on_msg(function(msg) {\n",
       "        //console.log('receiving', msg['content']['data'], msg);\n",
       "        // Pass the mpl event to the overriden (by mpl) onmessage function.\n",
       "        ws.onmessage(msg['content']['data'])\n",
       "    });\n",
       "    return ws;\n",
       "}\n",
       "\n",
       "mpl.mpl_figure_comm = function(comm, msg) {\n",
       "    // This is the function which gets called when the mpl process\n",
       "    // starts-up an IPython Comm through the \"matplotlib\" channel.\n",
       "\n",
       "    var id = msg.content.data.id;\n",
       "    // Get hold of the div created by the display call when the Comm\n",
       "    // socket was opened in Python.\n",
       "    var element = $(\"#\" + id);\n",
       "    var ws_proxy = comm_websocket_adapter(comm)\n",
       "\n",
       "    function ondownload(figure, format) {\n",
       "        window.open(figure.imageObj.src);\n",
       "    }\n",
       "\n",
       "    var fig = new mpl.figure(id, ws_proxy,\n",
       "                           ondownload,\n",
       "                           element.get(0));\n",
       "\n",
       "    // Call onopen now - mpl needs it, as it is assuming we've passed it a real\n",
       "    // web socket which is closed, not our websocket->open comm proxy.\n",
       "    ws_proxy.onopen();\n",
       "\n",
       "    fig.parent_element = element.get(0);\n",
       "    fig.cell_info = mpl.find_output_cell(\"<div id='\" + id + \"'></div>\");\n",
       "    if (!fig.cell_info) {\n",
       "        console.error(\"Failed to find cell for figure\", id, fig);\n",
       "        return;\n",
       "    }\n",
       "\n",
       "    var output_index = fig.cell_info[2]\n",
       "    var cell = fig.cell_info[0];\n",
       "\n",
       "};\n",
       "\n",
       "mpl.figure.prototype.handle_close = function(fig, msg) {\n",
       "    // Update the output cell to use the data from the current canvas.\n",
       "    fig.push_to_output();\n",
       "    var dataURL = fig.canvas.toDataURL();\n",
       "    // Re-enable the keyboard manager in IPython - without this line, in FF,\n",
       "    // the notebook keyboard shortcuts fail.\n",
       "    IPython.keyboard_manager.enable()\n",
       "    $(fig.parent_element).html('<img src=\"' + dataURL + '\">');\n",
       "    fig.send_message('closing', {});\n",
       "    fig.ws.close()\n",
       "}\n",
       "\n",
       "mpl.figure.prototype.push_to_output = function(remove_interactive) {\n",
       "    // Turn the data on the canvas into data in the output cell.\n",
       "    var dataURL = this.canvas.toDataURL();\n",
       "    this.cell_info[1]['text/html'] = '<img src=\"' + dataURL + '\">';\n",
       "}\n",
       "\n",
       "mpl.figure.prototype.updated_canvas_event = function() {\n",
       "    // Tell IPython that the notebook contents must change.\n",
       "    IPython.notebook.set_dirty(true);\n",
       "    this.send_message(\"ack\", {});\n",
       "    var fig = this;\n",
       "    // Wait a second, then push the new image to the DOM so\n",
       "    // that it is saved nicely (might be nice to debounce this).\n",
       "    setTimeout(function () { fig.push_to_output() }, 1000);\n",
       "}\n",
       "\n",
       "mpl.figure.prototype._init_toolbar = function() {\n",
       "    var fig = this;\n",
       "\n",
       "    var nav_element = $('<div/>')\n",
       "    nav_element.attr('style', 'width: 100%');\n",
       "    this.root.append(nav_element);\n",
       "\n",
       "    // Define a callback function for later on.\n",
       "    function toolbar_event(event) {\n",
       "        return fig.toolbar_button_onclick(event['data']);\n",
       "    }\n",
       "    function toolbar_mouse_event(event) {\n",
       "        return fig.toolbar_button_onmouseover(event['data']);\n",
       "    }\n",
       "\n",
       "    for(var toolbar_ind in mpl.toolbar_items){\n",
       "        var name = mpl.toolbar_items[toolbar_ind][0];\n",
       "        var tooltip = mpl.toolbar_items[toolbar_ind][1];\n",
       "        var image = mpl.toolbar_items[toolbar_ind][2];\n",
       "        var method_name = mpl.toolbar_items[toolbar_ind][3];\n",
       "\n",
       "        if (!name) { continue; };\n",
       "\n",
       "        var button = $('<button class=\"btn btn-default\" href=\"#\" title=\"' + name + '\"><i class=\"fa ' + image + ' fa-lg\"></i></button>');\n",
       "        button.click(method_name, toolbar_event);\n",
       "        button.mouseover(tooltip, toolbar_mouse_event);\n",
       "        nav_element.append(button);\n",
       "    }\n",
       "\n",
       "    // Add the status bar.\n",
       "    var status_bar = $('<span class=\"mpl-message\" style=\"text-align:right; float: right;\"/>');\n",
       "    nav_element.append(status_bar);\n",
       "    this.message = status_bar[0];\n",
       "\n",
       "    // Add the close button to the window.\n",
       "    var buttongrp = $('<div class=\"btn-group inline pull-right\"></div>');\n",
       "    var button = $('<button class=\"btn btn-mini btn-danger\" href=\"#\" title=\"Close figure\"><i class=\"fa fa-times icon-remove icon-large\"></i></button>');\n",
       "    button.click(function (evt) { fig.handle_close(fig, {}); } );\n",
       "    button.mouseover('Close figure', toolbar_mouse_event);\n",
       "    buttongrp.append(button);\n",
       "    var titlebar = this.root.find($('.ui-dialog-titlebar'));\n",
       "    titlebar.prepend(buttongrp);\n",
       "}\n",
       "\n",
       "\n",
       "mpl.figure.prototype._canvas_extra_style = function(el){\n",
       "    // this is important to make the div 'focusable\n",
       "    el.attr('tabindex', 0)\n",
       "    // reach out to IPython and tell the keyboard manager to turn it's self\n",
       "    // off when our div gets focus\n",
       "\n",
       "    // location in version 3\n",
       "    if (IPython.notebook.keyboard_manager) {\n",
       "        IPython.notebook.keyboard_manager.register_events(el);\n",
       "    }\n",
       "    else {\n",
       "        // location in version 2\n",
       "        IPython.keyboard_manager.register_events(el);\n",
       "    }\n",
       "\n",
       "}\n",
       "\n",
       "mpl.figure.prototype._key_event_extra = function(event, name) {\n",
       "    var manager = IPython.notebook.keyboard_manager;\n",
       "    if (!manager)\n",
       "        manager = IPython.keyboard_manager;\n",
       "\n",
       "    // Check for shift+enter\n",
       "    if (event.shiftKey && event.which == 13) {\n",
       "        this.canvas_div.blur();\n",
       "        event.shiftKey = false;\n",
       "        // Send a \"J\" for go to next cell\n",
       "        event.which = 74;\n",
       "        event.keyCode = 74;\n",
       "        manager.command_mode();\n",
       "        manager.handle_keydown(event);\n",
       "    }\n",
       "}\n",
       "\n",
       "mpl.figure.prototype.handle_save = function(fig, msg) {\n",
       "    fig.ondownload(fig, null);\n",
       "}\n",
       "\n",
       "\n",
       "mpl.find_output_cell = function(html_output) {\n",
       "    // Return the cell and output element which can be found *uniquely* in the notebook.\n",
       "    // Note - this is a bit hacky, but it is done because the \"notebook_saving.Notebook\"\n",
       "    // IPython event is triggered only after the cells have been serialised, which for\n",
       "    // our purposes (turning an active figure into a static one), is too late.\n",
       "    var cells = IPython.notebook.get_cells();\n",
       "    var ncells = cells.length;\n",
       "    for (var i=0; i<ncells; i++) {\n",
       "        var cell = cells[i];\n",
       "        if (cell.cell_type === 'code'){\n",
       "            for (var j=0; j<cell.output_area.outputs.length; j++) {\n",
       "                var data = cell.output_area.outputs[j];\n",
       "                if (data.data) {\n",
       "                    // IPython >= 3 moved mimebundle to data attribute of output\n",
       "                    data = data.data;\n",
       "                }\n",
       "                if (data['text/html'] == html_output) {\n",
       "                    return [cell, data, j];\n",
       "                }\n",
       "            }\n",
       "        }\n",
       "    }\n",
       "}\n",
       "\n",
       "// Register the function which deals with the matplotlib target/channel.\n",
       "// The kernel may be null if the page has been refreshed.\n",
       "if (IPython.notebook.kernel != null) {\n",
       "    IPython.notebook.kernel.comm_manager.register_target('matplotlib', mpl.mpl_figure_comm);\n",
       "}\n"
      ],
      "text/plain": [
       "<IPython.core.display.Javascript object>"
      ]
     },
     "metadata": {},
     "output_type": "display_data"
    },
    {
     "data": {
      "text/html": [
       "<img src=\"data:image/png;base64,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\">"
      ],
      "text/plain": [
       "<IPython.core.display.HTML object>"
      ]
     },
     "metadata": {},
     "output_type": "display_data"
    }
   ],
   "source": [
    "cosined = True\n",
    "bins = 10*18+1\n",
    "x_hist, y_hist = jkutils.get_xy_hist(zenith_out, res, bins, cosined)\n",
    "plt.figure()\n",
    "plt.plot(jkutils.get_plotted_x(x_hist, bins),y_hist)\n",
    "if cosined:\n",
    "    plt.xlabel(r'$\\cos(\\theta_{\\mathrm{real}})$')\n",
    "else:\n",
    "    plt.xlabel(r'$\\theta_{\\mathrm{real}}$')\n",
    "plt.ylabel(r'Accuracy $/\\;\\%$')\n",
    "plt.show()"
   ]
  },
  {
   "cell_type": "code",
   "execution_count": null,
   "metadata": {
    "collapsed": true
   },
   "outputs": [],
   "source": [
    "np.sum(np.round(np.cos(zenith[zenith<math.pi/2]))==np.round(np.cos(zenith_linefit[zenith<math.pi/2])))/float(len(zenith[zenith<math.pi/2]))"
   ]
  },
  {
   "cell_type": "code",
   "execution_count": null,
   "metadata": {
    "collapsed": false
   },
   "outputs": [],
   "source": [
    "reload(jkutils)"
   ]
  },
  {
   "cell_type": "code",
   "execution_count": 15,
   "metadata": {
    "collapsed": false
   },
   "outputs": [
    {
     "name": "stdout",
     "output_type": "stream",
     "text": [
      "92.74%\n"
     ]
    },
    {
     "data": {
      "text/plain": [
       "<matplotlib.figure.Figure at 0x7f3defd158d0>"
      ]
     },
     "metadata": {},
     "output_type": "display_data"
    },
    {
     "data": {
      "image/png": "[encoded data removed]",
      "text/plain": [
       "<matplotlib.figure.Figure at 0x7f3defd15dd0>"
      ]
     },
     "metadata": {},
     "output_type": "display_data"
    }
   ],
   "source": [
    "cosined = True\n",
    "plt.figure()\n",
    "fig, ax1 = plt.subplots()\n",
    "ax2 = ax1.twinx()\n",
    "bins = 4*18+1\n",
    "x_hist, y_zenith_hist = jkutils.get_xy_zenith_hist(zenith_out, bins, cosined)\n",
    "ax2.plot(jkutils.get_plotted_x(x_hist,bins), y_zenith_hist, c=\"gray\")\n",
    "bins = 10*18+1\n",
    "x_hist, y_hist = jkutils.get_xy_hist(zenith_out, res, bins, cosined=cosined)\n",
    "ax1.plot(jkutils.get_plotted_x(x_hist,bins),100*y_hist)\n",
    "ax1.set_xlabel(r'$\\cos(\\theta_{\\mathrm{real}})$')\n",
    "ax1.set_ylabel(r'Accuracy $/\\;\\%$')\n",
    "ax2.set_ylabel(r'Relative Zenith Frequency')\n",
    "plt.show()"
   ]
  },
  {
   "cell_type": "code",
   "execution_count": 56,
   "metadata": {
    "collapsed": false
   },
   "outputs": [
    {
     "data": {
      "text/plain": [
       "array([ 0.89586847,  0.84612142,  0.84359191,  0.79047218,  0.79342327,\n",
       "        0.77951096,  0.75969646,  0.77782462,  0.75210793,  0.76180438,\n",
       "        0.7727656 ,  0.7584317 ,  0.77782462,  0.77782462,  0.77740304,\n",
       "        0.79005059,  0.73735245,  0.79848229,  0.78962901,  0.78246206,\n",
       "        0.79468803,  0.81956155,  0.80986509,  0.75716695,  0.80227656,\n",
       "        0.7955312 ,  0.78288364,  0.80354132,  0.80438449,  0.77150084,\n",
       "        0.7841484 ,  0.82124789,  0.78583474,  0.83937605,  0.8153457 ,\n",
       "        0.82166948,  0.84021922,  0.83010118,  0.89123103,  0.86340641,\n",
       "        0.78667791,  0.75548061,  0.73903879,  0.73229342,  0.70278246,\n",
       "        0.72006745,  0.71205734,  0.69266442,  0.65640809,  0.63954469,\n",
       "        0.63701518,  0.61762226,  0.61003373,  0.58979764,  0.59443508,\n",
       "        0.59780776,  0.54721754,  0.56871838,  0.5425801 ,  0.52655987,\n",
       "        0.56323777,  0.53246206,  0.56618887,  0.56365936,  0.5851602 ,\n",
       "        0.58558179,  0.60623946,  0.6336425 ,  0.68676223,  0.74072513,\n",
       "        0.81070826,  1.        ])"
      ]
     },
     "execution_count": 56,
     "metadata": {},
     "output_type": "execute_result"
    }
   ],
   "source": [
    "y_zenith_hist"
   ]
  },
  {
   "cell_type": "code",
   "execution_count": 8,
   "metadata": {
    "collapsed": false
   },
   "outputs": [],
   "source": []
  },
  {
   "cell_type": "code",
   "execution_count": 13,
   "metadata": {
    "collapsed": false
   },
   "outputs": [
    {
     "name": "stdout",
     "output_type": "stream",
     "text": [
      "         |    pos    |    neg    \n",
      "---------+-----------+-----------\n",
      "test pos |      3.40%|      1.02%\n",
      "test neg |     50.87%|     44.71%\n",
      "---------+-----------+-----------\n",
      "---------+-----------+-----------\n",
      "         |    pos    |    neg    \n",
      "---------+-----------+-----------\n",
      "test pos |     877700|     262700\n",
      "test neg |   13141900|   11550000\n"
     ]
    }
   ],
   "source": [
    "true_pos, true_neg = 0, 0\n",
    "false_pos, false_neg = 0, 0\n",
    "reals, preds = [], []\n",
    "for pred, real in zip(res, test_out):\n",
    "    if real == 1:\n",
    "        if pred < 0.5:\n",
    "            false_neg += 1\n",
    "        else:\n",
    "            true_pos += 1\n",
    "    if real == 0:\n",
    "        if pred > 0.5:\n",
    "            false_pos += 1\n",
    "        else:\n",
    "            true_neg += 1\n",
    "    reals.append(real)\n",
    "    preds.append(pred)\n",
    "print \"         |    pos    |    neg    \"\n",
    "print \"---------+-----------+-----------\"\n",
    "sum_all = true_pos + false_pos + true_neg + false_neg\n",
    "if sum_all == 0:\n",
    "    print \"no data\"\n",
    "print \"test pos |{:10.2f}%|{:10.2f}%\".format(100 * true_pos / float(sum_all), 100 * false_pos / float(sum_all))\n",
    "print \"test neg |{:10.2f}%|{:10.2f}%\".format(100 * false_neg / float(sum_all), 100 * true_neg / float(sum_all))\n",
    "\n",
    "\n",
    "print \"---------+-----------+-----------\\n\"*2,    \n",
    "print \"         |    pos    |    neg    \"\n",
    "print \"---------+-----------+-----------\" \n",
    "print \"test pos |{:11.0f}|{:11.0f}\".format(100 * true_pos, 100 * false_pos)\n",
    "print \"test neg |{:11.0f}|{:11.0f}\".format(100 * false_neg, 100 * true_neg)"
   ]
  },
  {
   "cell_type": "code",
   "execution_count": 14,
   "metadata": {
    "collapsed": false,
    "scrolled": true
   },
   "outputs": [
    {
     "name": "stdout",
     "output_type": "stream",
     "text": [
      "(1.0, 0.14359115064144135)\n",
      "(1.0, 0.45776617527008057)\n",
      "(0.0, 0.045743729919195175)\n",
      "(1.0, 0.10674998164176941)\n",
      "(1.0, 0.085716038942337036)\n",
      "(1.0, 0.26368814706802368)\n",
      "(1.0, 0.18499447405338287)\n",
      "(1.0, 0.041818242520093918)\n",
      "(0.0, 0.055239066481590271)\n",
      "(1.0, 0.065168149769306183)\n",
      "(1.0, 0.11835683882236481)\n",
      "(1.0, 0.0095294732600450516)\n",
      "(0.0, 0.073607571423053741)\n",
      "(1.0, 0.067196197807788849)\n",
      "(1.0, 0.032700959593057632)\n",
      "(0.0, 0.0057418993674218655)\n",
      "(1.0, 0.051638927310705185)\n",
      "(0.0, 0.031003944575786591)\n",
      "(1.0, 0.041734214872121811)\n",
      "(1.0, 0.041638877242803574)\n",
      "(1.0, 0.082284733653068542)\n",
      "(1.0, 0.063974373042583466)\n",
      "(1.0, 0.097560234367847443)\n",
      "(0.0, 0.042343094944953918)\n",
      "(1.0, 0.10281994193792343)\n",
      "(1.0, 0.028931623324751854)\n",
      "(1.0, 0.051521439105272293)\n",
      "(0.0, 0.094884902238845825)\n",
      "(1.0, 0.056894086301326752)\n",
      "(0.0, 0.1337469071149826)\n",
      "(1.0, 0.041451908648014069)\n",
      "(1.0, 0.08518422394990921)\n",
      "(0.0, 0.098871342837810516)\n",
      "(1.0, 0.0097090080380439758)\n",
      "(0.0, 0.17490124702453613)\n",
      "(0.0, 0.08031221479177475)\n",
      "(1.0, 0.19800384342670441)\n",
      "(1.0, 0.040227826684713364)\n",
      "(0.0, 0.040393892675638199)\n",
      "(1.0, 0.01415683887898922)\n",
      "(1.0, 0.0092874430119991302)\n",
      "(1.0, 0.064541131258010864)\n",
      "(0.0, 0.028044149279594421)\n",
      "(0.0, 0.048601329326629639)\n",
      "(0.0, 0.040370490401983261)\n",
      "(0.0, 0.069054283201694489)\n",
      "(1.0, 0.088029541075229645)\n",
      "(1.0, 0.0075428239069879055)\n",
      "(1.0, 0.040558114647865295)\n",
      "(0.0, 0.01000317744910717)\n",
      "(1.0, 0.017941508442163467)\n",
      "(0.0, 0.055648040026426315)\n",
      "(1.0, 0.20954006910324097)\n",
      "(0.0, 0.060048207640647888)\n",
      "(1.0, 0.028210241347551346)\n",
      "(1.0, 0.067575864493846893)\n",
      "(1.0, 0.10706986486911774)\n",
      "(1.0, 0.21233396232128143)\n",
      "(0.0, 0.091184735298156738)\n",
      "(0.0, 0.091363988816738129)\n",
      "(0.0, 0.04660424217581749)\n",
      "(1.0, 1.0)\n",
      "(1.0, 0.13026809692382812)\n",
      "(0.0, 0.053150661289691925)\n",
      "(1.0, 0.99954980611801147)\n",
      "(0.0, 0.038484144955873489)\n",
      "(1.0, 0.015197010710835457)\n",
      "(1.0, 0.080971531569957733)\n",
      "(1.0, 0.087821803987026215)\n",
      "(0.0, 0.066317737102508545)\n",
      "(0.0, 0.051007729023694992)\n",
      "(1.0, 0.35236465930938721)\n",
      "(1.0, 0.10753690451383591)\n",
      "(0.0, 0.028608402237296104)\n",
      "(1.0, 0.1556108295917511)\n",
      "(0.0, 0.25454100966453552)\n",
      "(0.0, 0.020347218960523605)\n",
      "(0.0, 0.10489067435264587)\n",
      "(1.0, 0.022098055109381676)\n",
      "(1.0, 0.016882354393601418)\n",
      "(1.0, 0.053980961441993713)\n",
      "(1.0, 0.02587515115737915)\n",
      "(0.0, 0.077451087534427643)\n",
      "(1.0, 0.039857465773820877)\n",
      "(1.0, 0.027048796415328979)\n",
      "(1.0, 0.047407425940036774)\n",
      "(0.0, 0.050904706120491028)\n",
      "(1.0, 0.045242782682180405)\n",
      "(0.0, 0.075262613594532013)\n",
      "(1.0, 0.049224201589822769)\n",
      "(0.0, 0.018176272511482239)\n",
      "(1.0, 0.15509964525699615)\n",
      "(0.0, 0.021200727671384811)\n",
      "(1.0, 0.038452323526144028)\n",
      "(0.0, 0.092019394040107727)\n",
      "(1.0, 0.089113764464855194)\n",
      "(0.0, 0.037163257598876953)\n",
      "(0.0, 0.049508363008499146)\n",
      "(1.0, 0.036557324230670929)\n",
      "(1.0, 0.031895149499177933)\n",
      "(0.0, 0.035509441047906876)\n",
      "(1.0, 0.041199341416358948)\n",
      "(1.0, 0.029564768075942993)\n",
      "(0.0, 0.019628077745437622)\n",
      "(0.0, 0.11699263751506805)\n",
      "(1.0, 0.011337070725858212)\n",
      "(1.0, 0.067677877843379974)\n",
      "(0.0, 0.17834572494029999)\n",
      "(0.0, 0.061813805252313614)\n",
      "(1.0, 0.032529979944229126)\n",
      "(0.0, 0.023243052884936333)\n",
      "(0.0, 0.031270541250705719)\n",
      "(1.0, 0.033884666860103607)\n",
      "(0.0, 0.057406920939683914)\n",
      "(1.0, 0.16546876728534698)\n",
      "(0.0, 0.01480959914624691)\n",
      "(1.0, 0.047111410647630692)\n",
      "(1.0, 0.11563872545957565)\n",
      "(0.0, 0.017109639942646027)\n",
      "(0.0, 0.034452978521585464)\n",
      "(0.0, 0.071879751980304718)\n",
      "(1.0, 0.14061713218688965)\n",
      "(0.0, 0.045880008488893509)\n",
      "(1.0, 0.050023503601551056)\n",
      "(0.0, 0.04978957399725914)\n",
      "(0.0, 0.045178581029176712)\n",
      "(0.0, 0.022103449329733849)\n",
      "(1.0, 0.022290587425231934)\n",
      "(0.0, 0.035548821091651917)\n",
      "(0.0, 0.025944303721189499)\n",
      "(0.0, 0.073117569088935852)\n",
      "(0.0, 0.07504001259803772)\n",
      "(1.0, 0.034868031740188599)\n",
      "(1.0, 0.24086299538612366)\n",
      "(1.0, 0.039618898183107376)\n",
      "(1.0, 0.094099245965480804)\n",
      "(0.0, 0.017429463565349579)\n",
      "(0.0, 0.06041070818901062)\n",
      "(0.0, 0.023080036044120789)\n",
      "(1.0, 0.025433801114559174)\n",
      "(0.0, 0.07216692715883255)\n",
      "(1.0, 0.99927252531051636)\n",
      "(1.0, 0.036075271666049957)\n",
      "(1.0, 0.05634857714176178)\n",
      "(0.0, 0.066707678139209747)\n",
      "(1.0, 0.056255508214235306)\n",
      "(0.0, 0.043134134262800217)\n",
      "(0.0, 0.082714475691318512)\n",
      "(1.0, 0.020007863640785217)\n",
      "(0.0, 0.057733327150344849)\n",
      "(0.0, 0.027692820876836777)\n",
      "(1.0, 0.076910935342311859)\n",
      "(1.0, 0.044910386204719543)\n",
      "(1.0, 0.073183417320251465)\n",
      "(1.0, 0.053521424531936646)\n",
      "(0.0, 0.089574165642261505)\n",
      "(0.0, 0.022762184962630272)\n",
      "(1.0, 0.10062116384506226)\n",
      "(0.0, 0.012177596800029278)\n",
      "(1.0, 0.19213448464870453)\n",
      "(1.0, 0.93640542030334473)\n",
      "(1.0, 0.087673760950565338)\n",
      "(0.0, 0.0074772113002836704)\n",
      "(0.0, 0.63433939218521118)\n",
      "(0.0, 0.018041091039776802)\n",
      "(0.0, 0.058291018009185791)\n",
      "(1.0, 0.99999916553497314)\n",
      "(0.0, 0.045144602656364441)\n",
      "(0.0, 0.043364148586988449)\n",
      "(0.0, 0.077286206185817719)\n",
      "(1.0, 0.057361450046300888)\n",
      "(1.0, 0.20973557233810425)\n",
      "(0.0, 0.021009780466556549)\n",
      "(0.0, 0.022985534742474556)\n",
      "(1.0, 0.38582336902618408)\n",
      "(1.0, 0.067207224667072296)\n",
      "(1.0, 0.9964788556098938)\n",
      "(0.0, 0.035994190722703934)\n",
      "(1.0, 0.033924244344234467)\n",
      "(1.0, 0.032197829335927963)\n",
      "(1.0, 0.13494232296943665)\n",
      "(0.0, 0.028929691761732101)\n",
      "(1.0, 0.020773787051439285)\n",
      "(1.0, 0.17961445450782776)\n",
      "(1.0, 0.03029182180762291)\n",
      "(1.0, 0.023542836308479309)\n",
      "(1.0, 0.12144071608781815)\n",
      "(1.0, 0.26770892739295959)\n",
      "(1.0, 0.051629390567541122)\n",
      "(1.0, 0.18827727437019348)\n",
      "(1.0, 0.026534287258982658)\n",
      "(1.0, 0.28923851251602173)\n",
      "(1.0, 0.15881246328353882)\n",
      "(1.0, 0.094539850950241089)\n",
      "(0.0, 0.038480974733829498)\n",
      "(0.0, 0.049756217747926712)\n",
      "(1.0, 0.14168529212474823)\n",
      "(1.0, 0.060864157974720001)\n",
      "(1.0, 0.098442025482654572)\n",
      "(0.0, 0.056264013051986694)\n"
     ]
    }
   ],
   "source": [
    "print \"\\n\".join(map(str, zip(reals, preds))[:200])"
   ]
  },
  {
   "cell_type": "markdown",
   "metadata": {
    "collapsed": true
   },
   "source": [
    "## accuracy over number of hit bins"
   ]
  },
  {
   "cell_type": "code",
   "execution_count": 44,
   "metadata": {
    "collapsed": true
   },
   "outputs": [],
   "source": [
    "def num_hit_bins(input_set):\n",
    "    ret = 0\n",
    "    for j in input_set.flatten():\n",
    "        if shelf['using'] == 'time' and j != np.inf:\n",
    "            ret += 1\n",
    "        if shelf['using'] == 'charge' and j > 0.0:\n",
    "            ret += 1\n",
    "    return ret"
   ]
  },
  {
   "cell_type": "code",
   "execution_count": 45,
   "metadata": {
    "collapsed": true
   },
   "outputs": [],
   "source": [
    "def get_pos_in_res(i_file, i_in_testsets):\n",
    "    before = sum([test_inds[i][1] - test_inds[i][0] for i in range(i_file)])\n",
    "    return before + i_in_testsets"
   ]
  },
  {
   "cell_type": "code",
   "execution_count": 47,
   "metadata": {
    "collapsed": false,
    "scrolled": true
   },
   "outputs": [
    {
     "ename": "SystemExit",
     "evalue": "",
     "output_type": "error",
     "traceback": [
      "An exception has occurred, use %tb to see the full traceback.\n",
      "\u001b[1;31mSystemExit\u001b[0m\n"
     ]
    },
    {
     "name": "stderr",
     "output_type": "stream",
     "text": [
      "To exit: use 'exit', 'quit', or Ctrl-D.\n"
     ]
    }
   ],
   "source": [
    "#use savefile!\n",
    "sys.exit()\n",
    "bins = 100\n",
    "input_shape = input_data[0].shape[1:-1]\n",
    "x_bins = np.linspace(0,reduce(lambda x, y: x*y, input_shape),bins)\n",
    "y_acc_data = [[] for i in range(bins-1)]\n",
    "cor, summe = 0, 0\n",
    "for file_n in range(len(input_data)):\n",
    "    print \"file\", file_n\n",
    "    for i, inp_s in enumerate(input_data[file_n][test_inds[file_n][0]:test_inds[file_n][1]]):\n",
    "        n_hit = num_hit_bins(inp_s)\n",
    "        if n_hit == x_bins[-1]:\n",
    "            bin_n = bins - 2\n",
    "        else:\n",
    "            bin_n = np.digitize(np.array([n_hit]), x_bins)[0] - 1\n",
    "        #remember if it was correctly reconstructed\n",
    "        index = get_pos_in_res(file_n, i)\n",
    "        print index\n",
    "        correct = np.round(res[index]) == jkutils.zenith_to_binary(zenith_out[index]) #latter is same as test_out\n",
    "        y_acc_data[bin_n].append(correct)\n",
    "y_acc = [float(sum(i))/len(i) if len(i) > 0 else None for i in y_acc_data]"
   ]
  },
  {
   "cell_type": "code",
   "execution_count": 48,
   "metadata": {
    "collapsed": false
   },
   "outputs": [],
   "source": [
    "#use already calculated results\n",
    "nhits = np.array(np.load(\"save_ndoms_h012_testsets.npy\"),dtype=np.int)"
   ]
  },
  {
   "cell_type": "code",
   "execution_count": 49,
   "metadata": {
    "collapsed": false
   },
   "outputs": [
    {
     "data": {
      "text/plain": [
       "array([225, 428, 649, ...,  89, 432,  82])"
      ]
     },
     "execution_count": 49,
     "metadata": {},
     "output_type": "execute_result"
    }
   ],
   "source": [
    "nhits"
   ]
  },
  {
   "cell_type": "code",
   "execution_count": 50,
   "metadata": {
    "collapsed": false
   },
   "outputs": [
    {
     "name": "stdout",
     "output_type": "stream",
     "text": [
      "file 0\n",
      "file 1\n",
      "file 2\n"
     ]
    }
   ],
   "source": [
    "#print nhits over energy\n",
    "x=np.array([])\n",
    "y=np.array([])\n",
    "for file_n in range(len(input_data)):\n",
    "    print \"file\", file_n\n",
    "    x = np.concatenate((x, np.log10(out_data[file_n][test_inds[file_n][0]:test_inds[file_n][1]:1,\"energy\"])))\n",
    "    y = np.concatenate((y, nhits[np.arange(get_pos_in_res(file_n,0),get_pos_in_res(file_n+1,0))[::1]]))"
   ]
  },
  {
   "cell_type": "code",
   "execution_count": 51,
   "metadata": {
    "collapsed": false,
    "scrolled": false
   },
   "outputs": [
    {
     "data": {
      "text/plain": [
       "<matplotlib.collections.PathCollection at 0x7fc219acda10>"
      ]
     },
     "execution_count": 51,
     "metadata": {},
     "output_type": "execute_result"
    },
    {
     "data": {
      "image/png": "[encoded data removed]",
      "text/plain": [
       "<matplotlib.figure.Figure at 0x7fc21677a790>"
      ]
     },
     "metadata": {},
     "output_type": "display_data"
    }
   ],
   "source": [
    "plt.figure()\n",
    "plt.scatter(x,y,alpha=0.01,edgecolor='none')"
   ]
  },
  {
   "cell_type": "code",
   "execution_count": 52,
   "metadata": {
    "collapsed": false,
    "scrolled": true
   },
   "outputs": [],
   "source": [
    "bins = 100\n",
    "input_shape = input_data[0].shape[1:-1]\n",
    "#x_bins = np.linspace(0,reduce(lambda x, y: x*y, input_shape),bins)\n",
    "x_bins = np.linspace(0,500,bins)\n",
    "y_acc_data = [[] for i in range(bins-1)]\n",
    "cor, summe = 0, 0\n",
    "for i, n_hit in enumerate(nhits):\n",
    "    if n_hit > x_bins[-1]:\n",
    "        continue\n",
    "    if n_hit == x_bins[-1]:\n",
    "        bin_n = bins - 2\n",
    "    else:\n",
    "        bin_n = np.digitize(np.array([n_hit]), x_bins)[0] - 1\n",
    "    #remember if it was correctly reconstructed\n",
    "    index = i\n",
    "    correct = np.round(res[index]) == jkutils.zenith_to_binary(zenith_out[index]) #latter is same as test_out\n",
    "    y_acc_data[bin_n].append(correct)\n",
    "y_acc = [float(sum(i))/len(i) if len(i) > 0 else None for i in y_acc_data]"
   ]
  },
  {
   "cell_type": "code",
   "execution_count": 55,
   "metadata": {
    "collapsed": false,
    "scrolled": true
   },
   "outputs": [
    {
     "name": "stdout",
     "output_type": "stream",
     "text": [
      "     0.00  0.000     0\n",
      "     5.05  0.000     0\n",
      "    10.10  0.000     0\n",
      "    15.15  0.000     0\n",
      "    20.20  1.000    10\n",
      "    25.25  0.981   106\n",
      "    30.30  0.979   520\n",
      "    35.35  0.971  1494\n",
      "    40.40  0.960  2644\n",
      "    45.45  0.948  3635\n",
      "    50.51  0.934  4135\n",
      "    55.56  0.933  4278\n",
      "    60.61  0.926  3958\n",
      "    65.66  0.909  3666\n",
      "    70.71  0.911  3213\n",
      "    75.76  0.889  2839\n",
      "    80.81  0.884  2569\n",
      "    85.86  0.896  2344\n",
      "    90.91  0.879  2201\n",
      "    95.96  0.866  2350\n",
      "   101.01  0.864  1891\n",
      "   106.06  0.852  1830\n",
      "   111.11  0.869  1630\n",
      "   116.16  0.868  1533\n",
      "   121.21  0.885  1439\n",
      "   126.26  0.878  1359\n",
      "   131.31  0.882  1331\n",
      "   136.36  0.882  1285\n",
      "   141.41  0.889  1218\n",
      "   146.46  0.877  1162\n",
      "   151.52  0.887  1165\n",
      "   156.57  0.871  1100\n",
      "   161.62  0.876  1055\n",
      "   166.67  0.877  1008\n",
      "   171.72  0.880   999\n",
      "   176.77  0.877   963\n",
      "   181.82  0.904   857\n",
      "   186.87  0.906   883\n",
      "   191.92  0.878   876\n",
      "   196.97  0.895  1053\n",
      "   202.02  0.898   813\n",
      "   207.07  0.899   851\n",
      "   212.12  0.918   806\n",
      "   217.17  0.906   914\n",
      "   222.22  0.919   816\n",
      "   227.27  0.904   852\n",
      "   232.32  0.912   811\n",
      "   237.37  0.901   811\n",
      "   242.42  0.903   766\n",
      "   247.47  0.933   824\n",
      "   252.53  0.909   812\n",
      "   257.58  0.915   765\n",
      "   262.63  0.925   801\n",
      "   267.68  0.934   820\n",
      "   272.73  0.923   806\n",
      "   277.78  0.939   787\n",
      "   282.83  0.948   748\n",
      "   287.88  0.949   702\n",
      "   292.93  0.943   738\n",
      "   297.98  0.946   913\n",
      "   303.03  0.949   738\n",
      "   308.08  0.954   736\n",
      "   313.13  0.944   783\n",
      "   318.18  0.938   723\n",
      "   323.23  0.945   726\n",
      "   328.28  0.947   775\n",
      "   333.33  0.947   761\n",
      "   338.38  0.949   750\n",
      "   343.43  0.953   656\n",
      "   348.48  0.945   672\n",
      "   353.54  0.951   635\n",
      "   358.59  0.941   679\n",
      "   363.64  0.948   696\n",
      "   368.69  0.934   698\n",
      "   373.74  0.951   712\n",
      "   378.79  0.953   684\n",
      "   383.84  0.947   702\n",
      "   388.89  0.962   639\n",
      "   393.94  0.967   641\n",
      "   398.99  0.961   768\n",
      "   404.04  0.970   660\n",
      "   409.09  0.959   629\n",
      "   414.14  0.967   601\n",
      "   419.19  0.967   603\n",
      "   424.24  0.961   623\n",
      "   429.29  0.971   581\n",
      "   434.34  0.949   609\n",
      "   439.39  0.947   586\n",
      "   444.44  0.963   568\n",
      "   449.49  0.979   579\n",
      "   454.55  0.972   545\n",
      "   459.60  0.975   523\n",
      "   464.65  0.969   553\n",
      "   469.70  0.961   537\n",
      "   474.75  0.966   505\n",
      "   479.80  0.953   534\n",
      "   484.85  0.976   493\n",
      "   489.90  0.968   535\n",
      "   494.95  0.973   557\n"
     ]
    }
   ],
   "source": [
    "print '\\n'.join([\"{:9.2f}  {:.3f} {:5d}\".format(c,a,b) for c,a,b in zip(x_bins[:-1], y_acc_zero, [len(i) for i in y_acc_data])])"
   ]
  },
  {
   "cell_type": "code",
   "execution_count": 68,
   "metadata": {
    "collapsed": true
   },
   "outputs": [],
   "source": [
    "y_acc_zero = np.array([i if i is not None else 0.0 for i in y_acc])"
   ]
  },
  {
   "cell_type": "code",
   "execution_count": 65,
   "metadata": {
    "collapsed": false
   },
   "outputs": [
    {
     "data": {
      "text/plain": [
       "188.0789932421138"
      ]
     },
     "execution_count": 65,
     "metadata": {},
     "output_type": "execute_result"
    },
    {
     "data": {
      "image/png": "[encoded data removed]",
      "text/plain": [
       "<matplotlib.figure.Figure at 0x7fc219a90790>"
      ]
     },
     "metadata": {},
     "output_type": "display_data"
    }
   ],
   "source": [
    "from functools import reduce\n",
    "distp = []\n",
    "for i, n in enumerate(len(k) for k in y_acc_data):\n",
    "    distp += n*[i]\n",
    "sns.distplot([x_bins[i] for i in distp])\n",
    "np.mean(x_bins[[distp]])"
   ]
  },
  {
   "cell_type": "code",
   "execution_count": 69,
   "metadata": {
    "collapsed": false
   },
   "outputs": [
    {
     "data": {
      "image/png": "[encoded data removed]",
      "text/plain": [
       "<matplotlib.figure.Figure at 0x7fc219889410>"
      ]
     },
     "metadata": {},
     "output_type": "display_data"
    }
   ],
   "source": [
    "plt.figure()\n",
    "plotbins=x_bins[:-1]+float(x_bins[-1]-x_bins[0])/(len(x_bins)-1)/2\n",
    "plt.plot(np.array(plotbins)[y_acc_zero>0], y_acc_zero[y_acc_zero>0])\n",
    "plt.xlabel('n hit bins')\n",
    "plt.show()"
   ]
  },
  {
   "cell_type": "code",
   "execution_count": 67,
   "metadata": {
    "collapsed": false
   },
   "outputs": [
    {
     "data": {
      "image/png": "[encoded data removed]",
      "text/plain": [
       "<matplotlib.figure.Figure at 0x7fc216150f90>"
      ]
     },
     "metadata": {},
     "output_type": "display_data"
    }
   ],
   "source": [
    "plt.figure()\n",
    "plotbins=x_bins[:-1]+float(x_bins[-1]-x_bins[0])/(len(x_bins)-1)/2\n",
    "plt.plot(np.array(plotbins)[y_acc_zero>0], y_acc_zero[y_acc_zero>0])\n",
    "plt.xlabel('n hit bins')\n",
    "plt.show()"
   ]
  },
  {
   "cell_type": "code",
   "execution_count": 72,
   "metadata": {
    "collapsed": false
   },
   "outputs": [],
   "source": [
    "filt=nhits<35"
   ]
  },
  {
   "cell_type": "code",
   "execution_count": 73,
   "metadata": {
    "collapsed": false
   },
   "outputs": [
    {
     "data": {
      "text/plain": [
       "469"
      ]
     },
     "execution_count": 73,
     "metadata": {},
     "output_type": "execute_result"
    }
   ],
   "source": [
    "np.sum(filt)"
   ]
  },
  {
   "cell_type": "code",
   "execution_count": 74,
   "metadata": {
    "collapsed": false
   },
   "outputs": [
    {
     "data": {
      "text/plain": [
       "<matplotlib.axes._subplots.AxesSubplot at 0x7fa8359d5690>"
      ]
     },
     "execution_count": 74,
     "metadata": {},
     "output_type": "execute_result"
    },
    {
     "data": {
      "image/png": "[encoded data removed]",
      "text/plain": [
       "<matplotlib.figure.Figure at 0x7fa8359ef250>"
      ]
     },
     "metadata": {},
     "output_type": "display_data"
    }
   ],
   "source": [
    "sns.distplot(zenith_out[filt])"
   ]
  },
  {
   "cell_type": "code",
   "execution_count": 26,
   "metadata": {
    "collapsed": false
   },
   "outputs": [
    {
     "data": {
      "text/plain": [
       "True"
      ]
     },
     "execution_count": 26,
     "metadata": {},
     "output_type": "execute_result"
    }
   ],
   "source": [
    "input_data[0][0].flatten()[0] == np.inf"
   ]
  },
  {
   "cell_type": "code",
   "execution_count": 35,
   "metadata": {
    "collapsed": false
   },
   "outputs": [
    {
     "data": {
      "text/plain": [
       "array([     0.        ,    121.21212121,    242.42424242,    363.63636364,\n",
       "          484.84848485,    606.06060606,    727.27272727,    848.48484848,\n",
       "          969.6969697 ,   1090.90909091,   1212.12121212,   1333.33333333,\n",
       "         1454.54545455,   1575.75757576,   1696.96969697,   1818.18181818,\n",
       "         1939.39393939,   2060.60606061,   2181.81818182,   2303.03030303,\n",
       "         2424.24242424,   2545.45454545,   2666.66666667,   2787.87878788,\n",
       "         2909.09090909,   3030.3030303 ,   3151.51515152,   3272.72727273,\n",
       "         3393.93939394,   3515.15151515,   3636.36363636,   3757.57575758,\n",
       "         3878.78787879,   4000.        ,   4121.21212121,   4242.42424242,\n",
       "         4363.63636364,   4484.84848485,   4606.06060606,   4727.27272727,\n",
       "         4848.48484848,   4969.6969697 ,   5090.90909091,   5212.12121212,\n",
       "         5333.33333333,   5454.54545455,   5575.75757576,   5696.96969697,\n",
       "         5818.18181818,   5939.39393939,   6060.60606061,   6181.81818182,\n",
       "         6303.03030303,   6424.24242424,   6545.45454545,   6666.66666667,\n",
       "         6787.87878788,   6909.09090909,   7030.3030303 ,   7151.51515152,\n",
       "         7272.72727273,   7393.93939394,   7515.15151515,   7636.36363636,\n",
       "         7757.57575758,   7878.78787879,   8000.        ,   8121.21212121,\n",
       "         8242.42424242,   8363.63636364,   8484.84848485,   8606.06060606,\n",
       "         8727.27272727,   8848.48484848,   8969.6969697 ,   9090.90909091,\n",
       "         9212.12121212,   9333.33333333,   9454.54545455,   9575.75757576,\n",
       "         9696.96969697,   9818.18181818,   9939.39393939,  10060.60606061,\n",
       "        10181.81818182,  10303.03030303,  10424.24242424,  10545.45454545,\n",
       "        10666.66666667,  10787.87878788,  10909.09090909,  11030.3030303 ,\n",
       "        11151.51515152,  11272.72727273,  11393.93939394,  11515.15151515,\n",
       "        11636.36363636,  11757.57575758,  11878.78787879,  12000.        ])"
      ]
     },
     "execution_count": 35,
     "metadata": {},
     "output_type": "execute_result"
    }
   ],
   "source": [
    "x_bins"
   ]
  },
  {
   "cell_type": "code",
   "execution_count": null,
   "metadata": {
    "collapsed": true
   },
   "outputs": [],
   "source": []
  },
  {
   "cell_type": "code",
   "execution_count": null,
   "metadata": {
    "collapsed": true
   },
   "outputs": [],
   "source": []
  },
  {
   "cell_type": "code",
   "execution_count": null,
   "metadata": {
    "collapsed": true
   },
   "outputs": [],
   "source": []
  },
  {
   "cell_type": "markdown",
   "metadata": {},
   "source": [
    "## other network"
   ]
  },
  {
   "cell_type": "code",
   "execution_count": 6,
   "metadata": {
    "collapsed": true
   },
   "outputs": [],
   "source": [
    "today='2017-09-12'\n",
    "project_name='time_high_fcnn_t0'"
   ]
  },
  {
   "cell_type": "code",
   "execution_count": 10,
   "metadata": {
    "collapsed": false,
    "scrolled": true
   },
   "outputs": [
    {
     "name": "stdout",
     "output_type": "stream",
     "text": [
      "looking for train_hist/2017-09-12/time_high_fcnn_t0\n",
      "found\n"
     ]
    }
   ],
   "source": [
    "file_location = '/data/user/jkager/NN_Reco/johannes/updownclassification_3/'\n",
    "data_location = '/data/user/jkager/NN_Reco/training_data_20x10x60/'\n",
    "test_results = 'test_results.npy'\n",
    "\n",
    "project_folder = 'train_hist/{}/{}'.format(today, project_name)\n",
    "print \"looking for\", project_folder\n",
    "if not os.path.exists(os.path.join(file_location,project_folder)):\n",
    "    print \"project not found. exiting...\"\n",
    "    sys.exit(-1)\n",
    "elif not os.path.exists(os.path.join(file_location, project_folder, test_results)):\n",
    "    print \"test results not found. exiting...\"\n",
    "    sys.exit(-1)\n",
    "print \"found\"\n",
    "shelf = shelve.open(os.path.join(file_location, project_folder, 'run_info.shlf'))\n",
    "input_files = shelf['Files'].split(':')\n",
    "if len(input_files) == 1: #this could be something like ['h01'] (inputformat)\n",
    "    #try to decode fileinput format\n",
    "    input_files = jkutils.get_filenames(input_files[0])\n",
    "    for f in input_files:\n",
    "        if not os.path.isfile(os.path.join(data_location, 'training_data/{}'.format(f))):\n",
    "            print \"file not found:\", f\n",
    "            print \"exiting script.\"\n",
    "            sys.exit(1)\n",
    "train_inds = shelf['Train_Inds'] \n",
    "valid_inds = shelf['Valid_Inds']\n",
    "test_inds = shelf['Test_Inds']\n",
    "test_results = np.load(os.path.join(file_location, project_folder, test_results))\n",
    "input_data, out_data, file_len = jkutils.read_files(input_files, data_location, using=shelf['using'])\n",
    "res, test_out, zenith_out = test_results[0,:], test_results[1,:], test_results[2,:] #network output (0 or 1), \n",
    "                                                                                    #desired output (0 or 1),\n",
    "                                                                                    #zenith (0 to pi)"
   ]
  },
  {
   "cell_type": "code",
   "execution_count": 12,
   "metadata": {
    "collapsed": false
   },
   "outputs": [
    {
     "name": "stdout",
     "output_type": "stream",
     "text": [
      "48.11%\n"
     ]
    },
    {
     "data": {
      "image/png": "[encoded data removed]",
      "text/plain": [
       "<matplotlib.figure.Figure at 0x7f9a10241bd0>"
      ]
     },
     "metadata": {},
     "output_type": "display_data"
    }
   ],
   "source": [
    "cosined = True\n",
    "bins = 10*18+1\n",
    "x_hist, y_hist = jkutils.get_xy_hist(zenith_out, res, bins, cosined)\n",
    "plt.figure()\n",
    "plt.plot(jkutils.get_plotted_x(x_hist, bins),100*y_hist)\n",
    "plt.xlabel(r'$\\cos(\\theta_{\\mathrm{real}})$')\n",
    "plt.ylabel(r'Accuracy $/\\;\\%$')\n",
    "plt.show()"
   ]
  },
  {
   "cell_type": "code",
   "execution_count": null,
   "metadata": {
    "collapsed": true
   },
   "outputs": [],
   "source": []
  },
  {
   "cell_type": "code",
   "execution_count": 15,
   "metadata": {
    "collapsed": false
   },
   "outputs": [
    {
     "name": "stdout",
     "output_type": "stream",
     "text": [
      "92.74%\n"
     ]
    },
    {
     "data": {
      "text/plain": [
       "<matplotlib.figure.Figure at 0x7f3defd158d0>"
      ]
     },
     "metadata": {},
     "output_type": "display_data"
    },
    {
     "data": {
      "image/png": "[encoded data removed]",
      "text/plain": [
       "<matplotlib.figure.Figure at 0x7f3defd15dd0>"
      ]
     },
     "metadata": {},
     "output_type": "display_data"
    }
   ],
   "source": [
    "cosined = True\n",
    "plt.figure()\n",
    "fig, ax1 = plt.subplots()\n",
    "ax2 = ax1.twinx()\n",
    "bins = 4*18+1\n",
    "x_hist, y_zenith_hist = jkutils.get_xy_zenith_hist(zenith_out, bins, cosined)\n",
    "ax2.plot(jkutils.get_plotted_x(x_hist,bins), y_zenith_hist, c=\"gray\")\n",
    "bins = 10*18+1\n",
    "x_hist, y_hist = jkutils.get_xy_hist(zenith_out, res, bins, cosined=cosined)\n",
    "ax1.plot(jkutils.get_plotted_x(x_hist,bins),100*y_hist)\n",
    "ax1.set_xlabel(r'$\\cos(\\theta_{\\mathrm{real}})$')\n",
    "ax1.set_ylabel(r'Accuracy $/\\;\\%$')\n",
    "ax2.set_ylabel(r'Relative Zenith Frequency')\n",
    "plt.show()"
   ]
  }
 ],
 "metadata": {
  "kernelspec": {
   "display_name": "Python 2",
   "language": "python",
   "name": "python2"
  },
  "language_info": {
   "codemirror_mode": {
    "name": "ipython",
    "version": 2
   },
   "file_extension": ".py",
   "mimetype": "text/x-python",
   "name": "python",
   "nbconvert_exporter": "python",
   "pygments_lexer": "ipython2",
   "version": "2.7.10"
  }
 },
 "nbformat": 4,
 "nbformat_minor": 0
}
